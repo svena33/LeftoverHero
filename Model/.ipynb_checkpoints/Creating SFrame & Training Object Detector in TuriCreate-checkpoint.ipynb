{
 "cells": [
  {
   "cell_type": "markdown",
   "metadata": {},
   "source": [
    "# Creating SFrame & Training Object Detector in TuriCreate"
   ]
  },
  {
   "cell_type": "markdown",
   "metadata": {},
   "source": [
    "This notebook demonstrates how to create an **SFrame** from **annotated images** which is used to train an **object detection model** using **TuriCreate**. <br> The resulting detector is exported to **CoreML** and implemented in LeftOverHero (Swift app https://github.com/svena33/LeftoverHero)."
   ]
  },
  {
   "cell_type": "code",
   "execution_count": 1,
   "metadata": {},
   "outputs": [],
   "source": [
    "#import packages\n",
    "import pandas as pd\n",
    "import numpy as np\n",
    "import os\n",
    "from PIL import Image\n",
    "import turicreate as tc"
   ]
  },
  {
   "cell_type": "code",
   "execution_count": 2,
   "metadata": {},
   "outputs": [
    {
     "data": {
      "text/html": [
       "<style>.container { width:100% !important; }</style>"
      ],
      "text/plain": [
       "<IPython.core.display.HTML object>"
      ]
     },
     "metadata": {},
     "output_type": "display_data"
    }
   ],
   "source": [
    "#use full width of display\n",
    "from IPython.core.display import display, HTML\n",
    "display(HTML(\"<style>.container { width:100% !important; }</style>\"))"
   ]
  },
  {
   "cell_type": "markdown",
   "metadata": {},
   "source": [
    "### Load Data\n",
    "\n",
    "We assume that the data (images + annotations) is stored in 'data/'. <br>\n",
    "The original dataset is not uploaded since I don't posses the distribution rights to them.\n",
    "\n",
    "For example: <br>\n",
    "Image:\n",
    "'data/pic_onion_001.jpg' <br>\n",
    "Annotation: \n",
    "'data/pic_onion_001.txt'\n",
    "<br>\n",
    "\n",
    "#### Annotation structure:\n",
    "\n",
    "class x  y width height <br>\n",
    "0 0.189167 0.431085 0.131667 0.261975\n",
    "<br>\n",
    "float values relative to width and height of image, it can be equal from 0.0 to 1.0\n"
   ]
  },
  {
   "cell_type": "code",
   "execution_count": 3,
   "metadata": {},
   "outputs": [],
   "source": [
    "data_path = r'data/' #profile data path\n",
    "#label0 is onion\n",
    "#label1 is tomato\n",
    "classArray = [\"onion\", \"tomato\"]"
   ]
  },
  {
   "cell_type": "code",
   "execution_count": 4,
   "metadata": {},
   "outputs": [],
   "source": [
    "#get all the file names (both .jpg & txt) \n",
    "for (idx,entry) in enumerate(os.scandir(data_path)):\n",
    "    if entry.is_file():\n",
    "        idx,entry.name"
   ]
  },
  {
   "cell_type": "markdown",
   "metadata": {},
   "source": [
    "### Data wrangling\n",
    "#### Helper Functions"
   ]
  },
  {
   "cell_type": "code",
   "execution_count": 5,
   "metadata": {},
   "outputs": [],
   "source": [
    "def getTxt(imageP):\n",
    "    pre, ext = os.path.splitext(imageP)\n",
    "    txtfile = pre+\".txt\"\n",
    "    return txtfile\n",
    "\n",
    "def getImageDimension(imageP):\n",
    "    filePath = imageP\n",
    "    img = Image.open(filePath)\n",
    "    width, height = img.size\n",
    "    return (width,height)\n",
    "\n",
    "def getLabel(classNumber):\n",
    "    ##Link classnumber in .txt to class label (e.g. class 0 => label 'onion')\n",
    "    ##Order matters\n",
    "    return classArray[classNumber]\n",
    "\n",
    "\n",
    "#normcenterX...normHeight are all normalized float values between 0-1\n",
    "#See reference [1]\n",
    "def getCoordinates(imageWidth, imageHeight, normcenterX, normcenterY, normWidth, normHeight):\n",
    "    boxCenterX = imageWidth*normcenterX\n",
    "    boxWidth = imageWidth*normWidth\n",
    "    \n",
    "    boxCenterY = imageHeight*normcenterY\n",
    "    boxHeigth = imageHeight*normHeight\n",
    "    return ({'x': int(boxCenterX), 'width': int(boxWidth),'y': int(boxCenterY), 'height': int(boxHeigth)})\n",
    "    \n",
    "\n",
    "#create annotation in format e.g. {label: \"onion\", \"coordinates\": {'x': 340, 'width': 237, 'y': 440, 'height': 268}}\n",
    "def createAnnotation(entry, i_width, i_height):\n",
    "    label = getLabel(int(entry[0]))\n",
    "    _, centerX, centerY, nWidth, nHeight = entry.split()\n",
    "\n",
    "    coordinates = getCoordinates(i_width, i_height, float(centerX), float(centerY), float(nWidth), float(nHeight))\n",
    "    return ({'label': label, 'coordinates': coordinates})\n",
    "\n",
    "#generate the annotations column for an image (e.g. [{label: ..., \"coordinates\": ...}, ..., {label: ..., \"coordinates\": ...}])\n",
    "def generateExtraColumns(imagePath):\n",
    "    img_width, img_height = getImageDimension(imagePath)\n",
    "    #get the txt file associated with this image\n",
    "    txt_file = getTxt(imagePath)\n",
    "    \n",
    "    annotation = []\n",
    "    if os.path.isfile(txt_file):\n",
    "        #File exist\n",
    "        with open(txt_file) as f:\n",
    "            lines = [line.rstrip('\\n') for line in f]\n",
    "            for entry in lines:\n",
    "                annotation.append(createAnnotation(entry, img_width, img_height))\n",
    "    else:\n",
    "        #File does not exist\n",
    "        pass\n",
    "    \n",
    "    return annotation"
   ]
  },
  {
   "cell_type": "markdown",
   "metadata": {},
   "source": [
    "### Create SFrame for TuriCreate "
   ]
  },
  {
   "cell_type": "code",
   "execution_count": 6,
   "metadata": {},
   "outputs": [],
   "source": [
    "#Loads images from a directory.\n",
    "data = tc.image_analysis.load_images(data_path, with_path=True)"
   ]
  },
  {
   "cell_type": "code",
   "execution_count": 7,
   "metadata": {},
   "outputs": [],
   "source": [
    "#generate the annotations column for every image\n",
    "data['annotations'] = data['path'].apply(generateExtraColumns)\n",
    "\n",
    "#add a column which visualizes bounding boxes (ground truth or predictions) by returning annotated copies of the images.\n",
    "data['image_with_ground_truth'] = tc.object_detector.util.draw_bounding_boxes(data[\"image\"], data[\"annotations\"])"
   ]
  },
  {
   "cell_type": "code",
   "execution_count": 1,
   "metadata": {},
   "outputs": [],
   "source": [
    "#explore the sFrame\n",
    "#data.explore()"
   ]
  },
  {
   "cell_type": "code",
   "execution_count": 9,
   "metadata": {},
   "outputs": [],
   "source": [
    "# Save the data as SFrame for future use\n",
    "data.save('TomatoOnionTrainFrame.sframe')\n"
   ]
  },
  {
   "cell_type": "markdown",
   "metadata": {},
   "source": [
    "### Training Model"
   ]
  },
  {
   "cell_type": "code",
   "execution_count": 13,
   "metadata": {
    "scrolled": false
   },
   "outputs": [
    {
     "data": {
      "text/html": [
       "<pre>Using GPU to create model (NVIDIA GeForce GT 750M)</pre>"
      ],
      "text/plain": [
       "Using GPU to create model (NVIDIA GeForce GT 750M)"
      ]
     },
     "metadata": {},
     "output_type": "display_data"
    },
    {
     "data": {
      "text/html": [
       "<pre>Setting 'batch_size' to 16</pre>"
      ],
      "text/plain": [
       "Setting 'batch_size' to 16"
      ]
     },
     "metadata": {},
     "output_type": "display_data"
    },
    {
     "data": {
      "text/html": [
       "<pre>+--------------+--------------+--------------+</pre>"
      ],
      "text/plain": [
       "+--------------+--------------+--------------+"
      ]
     },
     "metadata": {},
     "output_type": "display_data"
    },
    {
     "data": {
      "text/html": [
       "<pre>| Iteration    | Loss         | Elapsed Time |</pre>"
      ],
      "text/plain": [
       "| Iteration    | Loss         | Elapsed Time |"
      ]
     },
     "metadata": {},
     "output_type": "display_data"
    },
    {
     "data": {
      "text/html": [
       "<pre>+--------------+--------------+--------------+</pre>"
      ],
      "text/plain": [
       "+--------------+--------------+--------------+"
      ]
     },
     "metadata": {},
     "output_type": "display_data"
    },
    {
     "data": {
      "text/html": [
       "<pre>| 1            | 7.63871      | 6.16s        |</pre>"
      ],
      "text/plain": [
       "| 1            | 7.63871      | 6.16s        |"
      ]
     },
     "metadata": {},
     "output_type": "display_data"
    },
    {
     "data": {
      "text/html": [
       "<pre>| 2            | 7.64323      | 11.24s       |</pre>"
      ],
      "text/plain": [
       "| 2            | 7.64323      | 11.24s       |"
      ]
     },
     "metadata": {},
     "output_type": "display_data"
    },
    {
     "data": {
      "text/html": [
       "<pre>| 3            | 7.57792      | 16.06s       |</pre>"
      ],
      "text/plain": [
       "| 3            | 7.57792      | 16.06s       |"
      ]
     },
     "metadata": {},
     "output_type": "display_data"
    },
    {
     "data": {
      "text/html": [
       "<pre>| 4            | 7.5406       | 20.89s       |</pre>"
      ],
      "text/plain": [
       "| 4            | 7.5406       | 20.89s       |"
      ]
     },
     "metadata": {},
     "output_type": "display_data"
    },
    {
     "data": {
      "text/html": [
       "<pre>| 5            | 7.5728       | 25.70s       |</pre>"
      ],
      "text/plain": [
       "| 5            | 7.5728       | 25.70s       |"
      ]
     },
     "metadata": {},
     "output_type": "display_data"
    },
    {
     "data": {
      "text/html": [
       "<pre>| 6            | 7.34497      | 30.52s       |</pre>"
      ],
      "text/plain": [
       "| 6            | 7.34497      | 30.52s       |"
      ]
     },
     "metadata": {},
     "output_type": "display_data"
    },
    {
     "data": {
      "text/html": [
       "<pre>| 7            | 7.0909       | 35.34s       |</pre>"
      ],
      "text/plain": [
       "| 7            | 7.0909       | 35.34s       |"
      ]
     },
     "metadata": {},
     "output_type": "display_data"
    },
    {
     "data": {
      "text/html": [
       "<pre>| 8            | 6.94388      | 40.16s       |</pre>"
      ],
      "text/plain": [
       "| 8            | 6.94388      | 40.16s       |"
      ]
     },
     "metadata": {},
     "output_type": "display_data"
    },
    {
     "data": {
      "text/html": [
       "<pre>| 9            | 6.7704       | 44.98s       |</pre>"
      ],
      "text/plain": [
       "| 9            | 6.7704       | 44.98s       |"
      ]
     },
     "metadata": {},
     "output_type": "display_data"
    },
    {
     "data": {
      "text/html": [
       "<pre>| 10           | 7.04074      | 49.80s       |</pre>"
      ],
      "text/plain": [
       "| 10           | 7.04074      | 49.80s       |"
      ]
     },
     "metadata": {},
     "output_type": "display_data"
    },
    {
     "data": {
      "text/html": [
       "<pre>| 11           | 7.1071       | 54.60s       |</pre>"
      ],
      "text/plain": [
       "| 11           | 7.1071       | 54.60s       |"
      ]
     },
     "metadata": {},
     "output_type": "display_data"
    },
    {
     "data": {
      "text/html": [
       "<pre>| 12           | 7.22409      | 59.42s       |</pre>"
      ],
      "text/plain": [
       "| 12           | 7.22409      | 59.42s       |"
      ]
     },
     "metadata": {},
     "output_type": "display_data"
    },
    {
     "data": {
      "text/html": [
       "<pre>| 13           | 7.41981      | 1m 4s        |</pre>"
      ],
      "text/plain": [
       "| 13           | 7.41981      | 1m 4s        |"
      ]
     },
     "metadata": {},
     "output_type": "display_data"
    },
    {
     "data": {
      "text/html": [
       "<pre>| 14           | 7.43263      | 1m 9s        |</pre>"
      ],
      "text/plain": [
       "| 14           | 7.43263      | 1m 9s        |"
      ]
     },
     "metadata": {},
     "output_type": "display_data"
    },
    {
     "data": {
      "text/html": [
       "<pre>| 15           | 7.56511      | 1m 13s       |</pre>"
      ],
      "text/plain": [
       "| 15           | 7.56511      | 1m 13s       |"
      ]
     },
     "metadata": {},
     "output_type": "display_data"
    },
    {
     "data": {
      "text/html": [
       "<pre>| 16           | 7.56734      | 1m 18s       |</pre>"
      ],
      "text/plain": [
       "| 16           | 7.56734      | 1m 18s       |"
      ]
     },
     "metadata": {},
     "output_type": "display_data"
    },
    {
     "data": {
      "text/html": [
       "<pre>| 17           | 7.4713       | 1m 23s       |</pre>"
      ],
      "text/plain": [
       "| 17           | 7.4713       | 1m 23s       |"
      ]
     },
     "metadata": {},
     "output_type": "display_data"
    },
    {
     "data": {
      "text/html": [
       "<pre>| 18           | 7.47825      | 1m 28s       |</pre>"
      ],
      "text/plain": [
       "| 18           | 7.47825      | 1m 28s       |"
      ]
     },
     "metadata": {},
     "output_type": "display_data"
    },
    {
     "data": {
      "text/html": [
       "<pre>| 19           | 7.44479      | 1m 33s       |</pre>"
      ],
      "text/plain": [
       "| 19           | 7.44479      | 1m 33s       |"
      ]
     },
     "metadata": {},
     "output_type": "display_data"
    },
    {
     "data": {
      "text/html": [
       "<pre>| 20           | 7.50212      | 1m 43s       |</pre>"
      ],
      "text/plain": [
       "| 20           | 7.50212      | 1m 43s       |"
      ]
     },
     "metadata": {},
     "output_type": "display_data"
    },
    {
     "data": {
      "text/html": [
       "<pre>| 21           | 7.35159      | 1m 44s       |</pre>"
      ],
      "text/plain": [
       "| 21           | 7.35159      | 1m 44s       |"
      ]
     },
     "metadata": {},
     "output_type": "display_data"
    },
    {
     "data": {
      "text/html": [
       "<pre>| 22           | 7.4329       | 1m 54s       |</pre>"
      ],
      "text/plain": [
       "| 22           | 7.4329       | 1m 54s       |"
      ]
     },
     "metadata": {},
     "output_type": "display_data"
    },
    {
     "data": {
      "text/html": [
       "<pre>| 23           | 7.41998      | 1m 54s       |</pre>"
      ],
      "text/plain": [
       "| 23           | 7.41998      | 1m 54s       |"
      ]
     },
     "metadata": {},
     "output_type": "display_data"
    },
    {
     "data": {
      "text/html": [
       "<pre>| 24           | 7.32555      | 2m 4s        |</pre>"
      ],
      "text/plain": [
       "| 24           | 7.32555      | 2m 4s        |"
      ]
     },
     "metadata": {},
     "output_type": "display_data"
    },
    {
     "data": {
      "text/html": [
       "<pre>| 25           | 7.13668      | 2m 5s        |</pre>"
      ],
      "text/plain": [
       "| 25           | 7.13668      | 2m 5s        |"
      ]
     },
     "metadata": {},
     "output_type": "display_data"
    },
    {
     "data": {
      "text/html": [
       "<pre>| 26           | 7.21357      | 2m 15s       |</pre>"
      ],
      "text/plain": [
       "| 26           | 7.21357      | 2m 15s       |"
      ]
     },
     "metadata": {},
     "output_type": "display_data"
    },
    {
     "data": {
      "text/html": [
       "<pre>| 27           | 7.1469       | 2m 16s       |</pre>"
      ],
      "text/plain": [
       "| 27           | 7.1469       | 2m 16s       |"
      ]
     },
     "metadata": {},
     "output_type": "display_data"
    },
    {
     "data": {
      "text/html": [
       "<pre>| 28           | 7.08156      | 2m 26s       |</pre>"
      ],
      "text/plain": [
       "| 28           | 7.08156      | 2m 26s       |"
      ]
     },
     "metadata": {},
     "output_type": "display_data"
    },
    {
     "data": {
      "text/html": [
       "<pre>| 29           | 6.90575      | 2m 26s       |</pre>"
      ],
      "text/plain": [
       "| 29           | 6.90575      | 2m 26s       |"
      ]
     },
     "metadata": {},
     "output_type": "display_data"
    },
    {
     "data": {
      "text/html": [
       "<pre>| 30           | 6.77045      | 2m 36s       |</pre>"
      ],
      "text/plain": [
       "| 30           | 6.77045      | 2m 36s       |"
      ]
     },
     "metadata": {},
     "output_type": "display_data"
    },
    {
     "data": {
      "text/html": [
       "<pre>| 31           | 6.77091      | 2m 37s       |</pre>"
      ],
      "text/plain": [
       "| 31           | 6.77091      | 2m 37s       |"
      ]
     },
     "metadata": {},
     "output_type": "display_data"
    },
    {
     "data": {
      "text/html": [
       "<pre>| 32           | 6.8186       | 2m 47s       |</pre>"
      ],
      "text/plain": [
       "| 32           | 6.8186       | 2m 47s       |"
      ]
     },
     "metadata": {},
     "output_type": "display_data"
    },
    {
     "data": {
      "text/html": [
       "<pre>| 33           | 6.72792      | 2m 47s       |</pre>"
      ],
      "text/plain": [
       "| 33           | 6.72792      | 2m 47s       |"
      ]
     },
     "metadata": {},
     "output_type": "display_data"
    },
    {
     "data": {
      "text/html": [
       "<pre>| 34           | 6.76978      | 2m 57s       |</pre>"
      ],
      "text/plain": [
       "| 34           | 6.76978      | 2m 57s       |"
      ]
     },
     "metadata": {},
     "output_type": "display_data"
    },
    {
     "data": {
      "text/html": [
       "<pre>| 35           | 6.67225      | 2m 58s       |</pre>"
      ],
      "text/plain": [
       "| 35           | 6.67225      | 2m 58s       |"
      ]
     },
     "metadata": {},
     "output_type": "display_data"
    },
    {
     "data": {
      "text/html": [
       "<pre>| 36           | 6.68229      | 3m 3s        |</pre>"
      ],
      "text/plain": [
       "| 36           | 6.68229      | 3m 3s        |"
      ]
     },
     "metadata": {},
     "output_type": "display_data"
    },
    {
     "data": {
      "text/html": [
       "<pre>| 37           | 6.67651      | 3m 13s       |</pre>"
      ],
      "text/plain": [
       "| 37           | 6.67651      | 3m 13s       |"
      ]
     },
     "metadata": {},
     "output_type": "display_data"
    },
    {
     "data": {
      "text/html": [
       "<pre>| 38           | 6.62593      | 3m 13s       |</pre>"
      ],
      "text/plain": [
       "| 38           | 6.62593      | 3m 13s       |"
      ]
     },
     "metadata": {},
     "output_type": "display_data"
    },
    {
     "data": {
      "text/html": [
       "<pre>| 39           | 6.5434       | 3m 18s       |</pre>"
      ],
      "text/plain": [
       "| 39           | 6.5434       | 3m 18s       |"
      ]
     },
     "metadata": {},
     "output_type": "display_data"
    },
    {
     "data": {
      "text/html": [
       "<pre>| 40           | 6.54531      | 3m 23s       |</pre>"
      ],
      "text/plain": [
       "| 40           | 6.54531      | 3m 23s       |"
      ]
     },
     "metadata": {},
     "output_type": "display_data"
    },
    {
     "data": {
      "text/html": [
       "<pre>| 41           | 6.49868      | 3m 28s       |</pre>"
      ],
      "text/plain": [
       "| 41           | 6.49868      | 3m 28s       |"
      ]
     },
     "metadata": {},
     "output_type": "display_data"
    },
    {
     "data": {
      "text/html": [
       "<pre>| 42           | 6.44559      | 3m 33s       |</pre>"
      ],
      "text/plain": [
       "| 42           | 6.44559      | 3m 33s       |"
      ]
     },
     "metadata": {},
     "output_type": "display_data"
    },
    {
     "data": {
      "text/html": [
       "<pre>| 43           | 6.43246      | 3m 38s       |</pre>"
      ],
      "text/plain": [
       "| 43           | 6.43246      | 3m 38s       |"
      ]
     },
     "metadata": {},
     "output_type": "display_data"
    },
    {
     "data": {
      "text/html": [
       "<pre>| 44           | 6.38934      | 3m 43s       |</pre>"
      ],
      "text/plain": [
       "| 44           | 6.38934      | 3m 43s       |"
      ]
     },
     "metadata": {},
     "output_type": "display_data"
    },
    {
     "data": {
      "text/html": [
       "<pre>| 45           | 6.30258      | 3m 47s       |</pre>"
      ],
      "text/plain": [
       "| 45           | 6.30258      | 3m 47s       |"
      ]
     },
     "metadata": {},
     "output_type": "display_data"
    },
    {
     "data": {
      "text/html": [
       "<pre>| 46           | 6.15779      | 3m 52s       |</pre>"
      ],
      "text/plain": [
       "| 46           | 6.15779      | 3m 52s       |"
      ]
     },
     "metadata": {},
     "output_type": "display_data"
    },
    {
     "data": {
      "text/html": [
       "<pre>| 47           | 5.99934      | 3m 57s       |</pre>"
      ],
      "text/plain": [
       "| 47           | 5.99934      | 3m 57s       |"
      ]
     },
     "metadata": {},
     "output_type": "display_data"
    },
    {
     "data": {
      "text/html": [
       "<pre>| 48           | 6.05907      | 4m 2s        |</pre>"
      ],
      "text/plain": [
       "| 48           | 6.05907      | 4m 2s        |"
      ]
     },
     "metadata": {},
     "output_type": "display_data"
    },
    {
     "data": {
      "text/html": [
       "<pre>| 49           | 5.93358      | 4m 7s        |</pre>"
      ],
      "text/plain": [
       "| 49           | 5.93358      | 4m 7s        |"
      ]
     },
     "metadata": {},
     "output_type": "display_data"
    },
    {
     "data": {
      "text/html": [
       "<pre>| 50           | 5.86952      | 4m 11s       |</pre>"
      ],
      "text/plain": [
       "| 50           | 5.86952      | 4m 11s       |"
      ]
     },
     "metadata": {},
     "output_type": "display_data"
    },
    {
     "data": {
      "text/html": [
       "<pre>| 51           | 5.82786      | 4m 16s       |</pre>"
      ],
      "text/plain": [
       "| 51           | 5.82786      | 4m 16s       |"
      ]
     },
     "metadata": {},
     "output_type": "display_data"
    },
    {
     "data": {
      "text/html": [
       "<pre>| 52           | 5.88961      | 4m 21s       |</pre>"
      ],
      "text/plain": [
       "| 52           | 5.88961      | 4m 21s       |"
      ]
     },
     "metadata": {},
     "output_type": "display_data"
    },
    {
     "data": {
      "text/html": [
       "<pre>| 53           | 5.75767      | 4m 26s       |</pre>"
      ],
      "text/plain": [
       "| 53           | 5.75767      | 4m 26s       |"
      ]
     },
     "metadata": {},
     "output_type": "display_data"
    },
    {
     "data": {
      "text/html": [
       "<pre>| 54           | 5.6519       | 4m 37s       |</pre>"
      ],
      "text/plain": [
       "| 54           | 5.6519       | 4m 37s       |"
      ]
     },
     "metadata": {},
     "output_type": "display_data"
    },
    {
     "data": {
      "text/html": [
       "<pre>| 55           | 5.73264      | 4m 37s       |</pre>"
      ],
      "text/plain": [
       "| 55           | 5.73264      | 4m 37s       |"
      ]
     },
     "metadata": {},
     "output_type": "display_data"
    },
    {
     "data": {
      "text/html": [
       "<pre>| 56           | 5.73666      | 4m 48s       |</pre>"
      ],
      "text/plain": [
       "| 56           | 5.73666      | 4m 48s       |"
      ]
     },
     "metadata": {},
     "output_type": "display_data"
    },
    {
     "data": {
      "text/html": [
       "<pre>| 57           | 5.64998      | 4m 48s       |</pre>"
      ],
      "text/plain": [
       "| 57           | 5.64998      | 4m 48s       |"
      ]
     },
     "metadata": {},
     "output_type": "display_data"
    },
    {
     "data": {
      "text/html": [
       "<pre>| 58           | 5.79297      | 4m 58s       |</pre>"
      ],
      "text/plain": [
       "| 58           | 5.79297      | 4m 58s       |"
      ]
     },
     "metadata": {},
     "output_type": "display_data"
    },
    {
     "data": {
      "text/html": [
       "<pre>| 59           | 5.90759      | 4m 58s       |</pre>"
      ],
      "text/plain": [
       "| 59           | 5.90759      | 4m 58s       |"
      ]
     },
     "metadata": {},
     "output_type": "display_data"
    },
    {
     "data": {
      "text/html": [
       "<pre>| 60           | 5.76164      | 5m 9s        |</pre>"
      ],
      "text/plain": [
       "| 60           | 5.76164      | 5m 9s        |"
      ]
     },
     "metadata": {},
     "output_type": "display_data"
    },
    {
     "data": {
      "text/html": [
       "<pre>| 61           | 5.58997      | 5m 9s        |</pre>"
      ],
      "text/plain": [
       "| 61           | 5.58997      | 5m 9s        |"
      ]
     },
     "metadata": {},
     "output_type": "display_data"
    },
    {
     "data": {
      "text/html": [
       "<pre>| 62           | 5.61197      | 5m 19s       |</pre>"
      ],
      "text/plain": [
       "| 62           | 5.61197      | 5m 19s       |"
      ]
     },
     "metadata": {},
     "output_type": "display_data"
    },
    {
     "data": {
      "text/html": [
       "<pre>| 63           | 5.57214      | 5m 20s       |</pre>"
      ],
      "text/plain": [
       "| 63           | 5.57214      | 5m 20s       |"
      ]
     },
     "metadata": {},
     "output_type": "display_data"
    },
    {
     "data": {
      "text/html": [
       "<pre>| 64           | 5.53271      | 5m 30s       |</pre>"
      ],
      "text/plain": [
       "| 64           | 5.53271      | 5m 30s       |"
      ]
     },
     "metadata": {},
     "output_type": "display_data"
    },
    {
     "data": {
      "text/html": [
       "<pre>| 65           | 5.48303      | 5m 30s       |</pre>"
      ],
      "text/plain": [
       "| 65           | 5.48303      | 5m 30s       |"
      ]
     },
     "metadata": {},
     "output_type": "display_data"
    },
    {
     "data": {
      "text/html": [
       "<pre>| 66           | 5.40424      | 5m 40s       |</pre>"
      ],
      "text/plain": [
       "| 66           | 5.40424      | 5m 40s       |"
      ]
     },
     "metadata": {},
     "output_type": "display_data"
    },
    {
     "data": {
      "text/html": [
       "<pre>| 67           | 5.39858      | 5m 41s       |</pre>"
      ],
      "text/plain": [
       "| 67           | 5.39858      | 5m 41s       |"
      ]
     },
     "metadata": {},
     "output_type": "display_data"
    },
    {
     "data": {
      "text/html": [
       "<pre>| 68           | 5.62214      | 5m 51s       |</pre>"
      ],
      "text/plain": [
       "| 68           | 5.62214      | 5m 51s       |"
      ]
     },
     "metadata": {},
     "output_type": "display_data"
    },
    {
     "data": {
      "text/html": [
       "<pre>| 69           | 5.49405      | 5m 51s       |</pre>"
      ],
      "text/plain": [
       "| 69           | 5.49405      | 5m 51s       |"
      ]
     },
     "metadata": {},
     "output_type": "display_data"
    },
    {
     "data": {
      "text/html": [
       "<pre>| 70           | 5.5778       | 6m 1s        |</pre>"
      ],
      "text/plain": [
       "| 70           | 5.5778       | 6m 1s        |"
      ]
     },
     "metadata": {},
     "output_type": "display_data"
    },
    {
     "data": {
      "text/html": [
       "<pre>| 71           | 5.53656      | 6m 2s        |</pre>"
      ],
      "text/plain": [
       "| 71           | 5.53656      | 6m 2s        |"
      ]
     },
     "metadata": {},
     "output_type": "display_data"
    },
    {
     "data": {
      "text/html": [
       "<pre>| 72           | 5.62503      | 6m 12s       |</pre>"
      ],
      "text/plain": [
       "| 72           | 5.62503      | 6m 12s       |"
      ]
     },
     "metadata": {},
     "output_type": "display_data"
    },
    {
     "data": {
      "text/html": [
       "<pre>| 73           | 5.56385      | 6m 13s       |</pre>"
      ],
      "text/plain": [
       "| 73           | 5.56385      | 6m 13s       |"
      ]
     },
     "metadata": {},
     "output_type": "display_data"
    },
    {
     "data": {
      "text/html": [
       "<pre>| 74           | 5.50195      | 6m 23s       |</pre>"
      ],
      "text/plain": [
       "| 74           | 5.50195      | 6m 23s       |"
      ]
     },
     "metadata": {},
     "output_type": "display_data"
    },
    {
     "data": {
      "text/html": [
       "<pre>| 75           | 5.33549      | 6m 23s       |</pre>"
      ],
      "text/plain": [
       "| 75           | 5.33549      | 6m 23s       |"
      ]
     },
     "metadata": {},
     "output_type": "display_data"
    },
    {
     "data": {
      "text/html": [
       "<pre>| 76           | 5.36892      | 6m 33s       |</pre>"
      ],
      "text/plain": [
       "| 76           | 5.36892      | 6m 33s       |"
      ]
     },
     "metadata": {},
     "output_type": "display_data"
    },
    {
     "data": {
      "text/html": [
       "<pre>| 77           | 5.25977      | 6m 34s       |</pre>"
      ],
      "text/plain": [
       "| 77           | 5.25977      | 6m 34s       |"
      ]
     },
     "metadata": {},
     "output_type": "display_data"
    },
    {
     "data": {
      "text/html": [
       "<pre>| 78           | 5.16985      | 6m 44s       |</pre>"
      ],
      "text/plain": [
       "| 78           | 5.16985      | 6m 44s       |"
      ]
     },
     "metadata": {},
     "output_type": "display_data"
    },
    {
     "data": {
      "text/html": [
       "<pre>| 79           | 5.19         | 6m 44s       |</pre>"
      ],
      "text/plain": [
       "| 79           | 5.19         | 6m 44s       |"
      ]
     },
     "metadata": {},
     "output_type": "display_data"
    },
    {
     "data": {
      "text/html": [
       "<pre>| 80           | 5.20212      | 6m 55s       |</pre>"
      ],
      "text/plain": [
       "| 80           | 5.20212      | 6m 55s       |"
      ]
     },
     "metadata": {},
     "output_type": "display_data"
    },
    {
     "data": {
      "text/html": [
       "<pre>| 81           | 5.25413      | 6m 55s       |</pre>"
      ],
      "text/plain": [
       "| 81           | 5.25413      | 6m 55s       |"
      ]
     },
     "metadata": {},
     "output_type": "display_data"
    },
    {
     "data": {
      "text/html": [
       "<pre>| 82           | 5.21067      | 7m 5s        |</pre>"
      ],
      "text/plain": [
       "| 82           | 5.21067      | 7m 5s        |"
      ]
     },
     "metadata": {},
     "output_type": "display_data"
    },
    {
     "data": {
      "text/html": [
       "<pre>| 83           | 5.19206      | 7m 6s        |</pre>"
      ],
      "text/plain": [
       "| 83           | 5.19206      | 7m 6s        |"
      ]
     },
     "metadata": {},
     "output_type": "display_data"
    },
    {
     "data": {
      "text/html": [
       "<pre>| 84           | 5.01574      | 7m 16s       |</pre>"
      ],
      "text/plain": [
       "| 84           | 5.01574      | 7m 16s       |"
      ]
     },
     "metadata": {},
     "output_type": "display_data"
    },
    {
     "data": {
      "text/html": [
       "<pre>| 85           | 5.08963      | 7m 16s       |</pre>"
      ],
      "text/plain": [
       "| 85           | 5.08963      | 7m 16s       |"
      ]
     },
     "metadata": {},
     "output_type": "display_data"
    },
    {
     "data": {
      "text/html": [
       "<pre>| 86           | 5.07462      | 7m 26s       |</pre>"
      ],
      "text/plain": [
       "| 86           | 5.07462      | 7m 26s       |"
      ]
     },
     "metadata": {},
     "output_type": "display_data"
    },
    {
     "data": {
      "text/html": [
       "<pre>| 87           | 5.11597      | 7m 27s       |</pre>"
      ],
      "text/plain": [
       "| 87           | 5.11597      | 7m 27s       |"
      ]
     },
     "metadata": {},
     "output_type": "display_data"
    },
    {
     "data": {
      "text/html": [
       "<pre>| 88           | 5.23495      | 7m 37s       |</pre>"
      ],
      "text/plain": [
       "| 88           | 5.23495      | 7m 37s       |"
      ]
     },
     "metadata": {},
     "output_type": "display_data"
    },
    {
     "data": {
      "text/html": [
       "<pre>| 89           | 5.18496      | 7m 37s       |</pre>"
      ],
      "text/plain": [
       "| 89           | 5.18496      | 7m 37s       |"
      ]
     },
     "metadata": {},
     "output_type": "display_data"
    },
    {
     "data": {
      "text/html": [
       "<pre>| 90           | 5.04556      | 7m 47s       |</pre>"
      ],
      "text/plain": [
       "| 90           | 5.04556      | 7m 47s       |"
      ]
     },
     "metadata": {},
     "output_type": "display_data"
    },
    {
     "data": {
      "text/html": [
       "<pre>| 91           | 5.02984      | 7m 48s       |</pre>"
      ],
      "text/plain": [
       "| 91           | 5.02984      | 7m 48s       |"
      ]
     },
     "metadata": {},
     "output_type": "display_data"
    },
    {
     "data": {
      "text/html": [
       "<pre>| 92           | 4.97949      | 7m 53s       |</pre>"
      ],
      "text/plain": [
       "| 92           | 4.97949      | 7m 53s       |"
      ]
     },
     "metadata": {},
     "output_type": "display_data"
    },
    {
     "data": {
      "text/html": [
       "<pre>| 93           | 5.0197       | 7m 58s       |</pre>"
      ],
      "text/plain": [
       "| 93           | 5.0197       | 7m 58s       |"
      ]
     },
     "metadata": {},
     "output_type": "display_data"
    },
    {
     "data": {
      "text/html": [
       "<pre>| 94           | 4.95418      | 8m 3s        |</pre>"
      ],
      "text/plain": [
       "| 94           | 4.95418      | 8m 3s        |"
      ]
     },
     "metadata": {},
     "output_type": "display_data"
    },
    {
     "data": {
      "text/html": [
       "<pre>| 95           | 5.13672      | 8m 8s        |</pre>"
      ],
      "text/plain": [
       "| 95           | 5.13672      | 8m 8s        |"
      ]
     },
     "metadata": {},
     "output_type": "display_data"
    },
    {
     "data": {
      "text/html": [
       "<pre>| 96           | 5.01467      | 8m 12s       |</pre>"
      ],
      "text/plain": [
       "| 96           | 5.01467      | 8m 12s       |"
      ]
     },
     "metadata": {},
     "output_type": "display_data"
    },
    {
     "data": {
      "text/html": [
       "<pre>| 97           | 4.91533      | 8m 17s       |</pre>"
      ],
      "text/plain": [
       "| 97           | 4.91533      | 8m 17s       |"
      ]
     },
     "metadata": {},
     "output_type": "display_data"
    },
    {
     "data": {
      "text/html": [
       "<pre>| 98           | 4.92714      | 8m 22s       |</pre>"
      ],
      "text/plain": [
       "| 98           | 4.92714      | 8m 22s       |"
      ]
     },
     "metadata": {},
     "output_type": "display_data"
    },
    {
     "data": {
      "text/html": [
       "<pre>| 99           | 5.26167      | 8m 27s       |</pre>"
      ],
      "text/plain": [
       "| 99           | 5.26167      | 8m 27s       |"
      ]
     },
     "metadata": {},
     "output_type": "display_data"
    },
    {
     "data": {
      "text/html": [
       "<pre>| 100          | 5.24561      | 8m 32s       |</pre>"
      ],
      "text/plain": [
       "| 100          | 5.24561      | 8m 32s       |"
      ]
     },
     "metadata": {},
     "output_type": "display_data"
    },
    {
     "data": {
      "text/html": [
       "<pre>| 101          | 5.11919      | 8m 37s       |</pre>"
      ],
      "text/plain": [
       "| 101          | 5.11919      | 8m 37s       |"
      ]
     },
     "metadata": {},
     "output_type": "display_data"
    },
    {
     "data": {
      "text/html": [
       "<pre>| 102          | 5.02863      | 8m 42s       |</pre>"
      ],
      "text/plain": [
       "| 102          | 5.02863      | 8m 42s       |"
      ]
     },
     "metadata": {},
     "output_type": "display_data"
    },
    {
     "data": {
      "text/html": [
       "<pre>| 103          | 4.99169      | 8m 47s       |</pre>"
      ],
      "text/plain": [
       "| 103          | 4.99169      | 8m 47s       |"
      ]
     },
     "metadata": {},
     "output_type": "display_data"
    },
    {
     "data": {
      "text/html": [
       "<pre>| 104          | 4.9688       | 8m 51s       |</pre>"
      ],
      "text/plain": [
       "| 104          | 4.9688       | 8m 51s       |"
      ]
     },
     "metadata": {},
     "output_type": "display_data"
    },
    {
     "data": {
      "text/html": [
       "<pre>| 105          | 4.93695      | 8m 56s       |</pre>"
      ],
      "text/plain": [
       "| 105          | 4.93695      | 8m 56s       |"
      ]
     },
     "metadata": {},
     "output_type": "display_data"
    },
    {
     "data": {
      "text/html": [
       "<pre>| 106          | 4.89853      | 9m 1s        |</pre>"
      ],
      "text/plain": [
       "| 106          | 4.89853      | 9m 1s        |"
      ]
     },
     "metadata": {},
     "output_type": "display_data"
    },
    {
     "data": {
      "text/html": [
       "<pre>| 107          | 4.96717      | 9m 6s        |</pre>"
      ],
      "text/plain": [
       "| 107          | 4.96717      | 9m 6s        |"
      ]
     },
     "metadata": {},
     "output_type": "display_data"
    },
    {
     "data": {
      "text/html": [
       "<pre>| 108          | 4.84617      | 9m 11s       |</pre>"
      ],
      "text/plain": [
       "| 108          | 4.84617      | 9m 11s       |"
      ]
     },
     "metadata": {},
     "output_type": "display_data"
    },
    {
     "data": {
      "text/html": [
       "<pre>| 109          | 4.72905      | 9m 15s       |</pre>"
      ],
      "text/plain": [
       "| 109          | 4.72905      | 9m 15s       |"
      ]
     },
     "metadata": {},
     "output_type": "display_data"
    },
    {
     "data": {
      "text/html": [
       "<pre>| 110          | 4.64958      | 9m 20s       |</pre>"
      ],
      "text/plain": [
       "| 110          | 4.64958      | 9m 20s       |"
      ]
     },
     "metadata": {},
     "output_type": "display_data"
    },
    {
     "data": {
      "text/html": [
       "<pre>| 111          | 4.69089      | 9m 25s       |</pre>"
      ],
      "text/plain": [
       "| 111          | 4.69089      | 9m 25s       |"
      ]
     },
     "metadata": {},
     "output_type": "display_data"
    },
    {
     "data": {
      "text/html": [
       "<pre>| 112          | 4.56198      | 9m 30s       |</pre>"
      ],
      "text/plain": [
       "| 112          | 4.56198      | 9m 30s       |"
      ]
     },
     "metadata": {},
     "output_type": "display_data"
    },
    {
     "data": {
      "text/html": [
       "<pre>| 113          | 4.6275       | 9m 35s       |</pre>"
      ],
      "text/plain": [
       "| 113          | 4.6275       | 9m 35s       |"
      ]
     },
     "metadata": {},
     "output_type": "display_data"
    },
    {
     "data": {
      "text/html": [
       "<pre>| 114          | 4.49695      | 9m 39s       |</pre>"
      ],
      "text/plain": [
       "| 114          | 4.49695      | 9m 39s       |"
      ]
     },
     "metadata": {},
     "output_type": "display_data"
    },
    {
     "data": {
      "text/html": [
       "<pre>| 115          | 4.48151      | 9m 44s       |</pre>"
      ],
      "text/plain": [
       "| 115          | 4.48151      | 9m 44s       |"
      ]
     },
     "metadata": {},
     "output_type": "display_data"
    },
    {
     "data": {
      "text/html": [
       "<pre>| 116          | 4.46995      | 9m 50s       |</pre>"
      ],
      "text/plain": [
       "| 116          | 4.46995      | 9m 50s       |"
      ]
     },
     "metadata": {},
     "output_type": "display_data"
    },
    {
     "data": {
      "text/html": [
       "<pre>| 117          | 4.4999       | 9m 55s       |</pre>"
      ],
      "text/plain": [
       "| 117          | 4.4999       | 9m 55s       |"
      ]
     },
     "metadata": {},
     "output_type": "display_data"
    },
    {
     "data": {
      "text/html": [
       "<pre>| 118          | 4.68306      | 10m 0s       |</pre>"
      ],
      "text/plain": [
       "| 118          | 4.68306      | 10m 0s       |"
      ]
     },
     "metadata": {},
     "output_type": "display_data"
    },
    {
     "data": {
      "text/html": [
       "<pre>| 119          | 4.60709      | 10m 4s       |</pre>"
      ],
      "text/plain": [
       "| 119          | 4.60709      | 10m 4s       |"
      ]
     },
     "metadata": {},
     "output_type": "display_data"
    },
    {
     "data": {
      "text/html": [
       "<pre>| 120          | 4.54634      | 10m 9s       |</pre>"
      ],
      "text/plain": [
       "| 120          | 4.54634      | 10m 9s       |"
      ]
     },
     "metadata": {},
     "output_type": "display_data"
    },
    {
     "data": {
      "text/html": [
       "<pre>| 121          | 4.4626       | 10m 14s      |</pre>"
      ],
      "text/plain": [
       "| 121          | 4.4626       | 10m 14s      |"
      ]
     },
     "metadata": {},
     "output_type": "display_data"
    },
    {
     "data": {
      "text/html": [
       "<pre>| 122          | 4.52936      | 10m 19s      |</pre>"
      ],
      "text/plain": [
       "| 122          | 4.52936      | 10m 19s      |"
      ]
     },
     "metadata": {},
     "output_type": "display_data"
    },
    {
     "data": {
      "text/html": [
       "<pre>| 123          | 4.59084      | 10m 24s      |</pre>"
      ],
      "text/plain": [
       "| 123          | 4.59084      | 10m 24s      |"
      ]
     },
     "metadata": {},
     "output_type": "display_data"
    },
    {
     "data": {
      "text/html": [
       "<pre>| 124          | 4.53475      | 10m 29s      |</pre>"
      ],
      "text/plain": [
       "| 124          | 4.53475      | 10m 29s      |"
      ]
     },
     "metadata": {},
     "output_type": "display_data"
    },
    {
     "data": {
      "text/html": [
       "<pre>| 125          | 4.49014      | 10m 39s      |</pre>"
      ],
      "text/plain": [
       "| 125          | 4.49014      | 10m 39s      |"
      ]
     },
     "metadata": {},
     "output_type": "display_data"
    },
    {
     "data": {
      "text/html": [
       "<pre>| 126          | 4.41573      | 10m 40s      |</pre>"
      ],
      "text/plain": [
       "| 126          | 4.41573      | 10m 40s      |"
      ]
     },
     "metadata": {},
     "output_type": "display_data"
    },
    {
     "data": {
      "text/html": [
       "<pre>| 127          | 4.34442      | 10m 50s      |</pre>"
      ],
      "text/plain": [
       "| 127          | 4.34442      | 10m 50s      |"
      ]
     },
     "metadata": {},
     "output_type": "display_data"
    },
    {
     "data": {
      "text/html": [
       "<pre>| 128          | 4.41682      | 10m 51s      |</pre>"
      ],
      "text/plain": [
       "| 128          | 4.41682      | 10m 51s      |"
      ]
     },
     "metadata": {},
     "output_type": "display_data"
    },
    {
     "data": {
      "text/html": [
       "<pre>| 129          | 4.31298      | 10m 56s      |</pre>"
      ],
      "text/plain": [
       "| 129          | 4.31298      | 10m 56s      |"
      ]
     },
     "metadata": {},
     "output_type": "display_data"
    },
    {
     "data": {
      "text/html": [
       "<pre>| 130          | 4.30789      | 11m 1s       |</pre>"
      ],
      "text/plain": [
       "| 130          | 4.30789      | 11m 1s       |"
      ]
     },
     "metadata": {},
     "output_type": "display_data"
    },
    {
     "data": {
      "text/html": [
       "<pre>| 131          | 4.28762      | 11m 11s      |</pre>"
      ],
      "text/plain": [
       "| 131          | 4.28762      | 11m 11s      |"
      ]
     },
     "metadata": {},
     "output_type": "display_data"
    },
    {
     "data": {
      "text/html": [
       "<pre>| 132          | 4.35784      | 11m 12s      |</pre>"
      ],
      "text/plain": [
       "| 132          | 4.35784      | 11m 12s      |"
      ]
     },
     "metadata": {},
     "output_type": "display_data"
    },
    {
     "data": {
      "text/html": [
       "<pre>| 133          | 4.38496      | 11m 22s      |</pre>"
      ],
      "text/plain": [
       "| 133          | 4.38496      | 11m 22s      |"
      ]
     },
     "metadata": {},
     "output_type": "display_data"
    },
    {
     "data": {
      "text/html": [
       "<pre>| 134          | 4.45796      | 11m 22s      |</pre>"
      ],
      "text/plain": [
       "| 134          | 4.45796      | 11m 22s      |"
      ]
     },
     "metadata": {},
     "output_type": "display_data"
    },
    {
     "data": {
      "text/html": [
       "<pre>| 135          | 4.31587      | 11m 33s      |</pre>"
      ],
      "text/plain": [
       "| 135          | 4.31587      | 11m 33s      |"
      ]
     },
     "metadata": {},
     "output_type": "display_data"
    },
    {
     "data": {
      "text/html": [
       "<pre>| 136          | 4.2702       | 11m 33s      |</pre>"
      ],
      "text/plain": [
       "| 136          | 4.2702       | 11m 33s      |"
      ]
     },
     "metadata": {},
     "output_type": "display_data"
    },
    {
     "data": {
      "text/html": [
       "<pre>| 137          | 4.25269      | 11m 43s      |</pre>"
      ],
      "text/plain": [
       "| 137          | 4.25269      | 11m 43s      |"
      ]
     },
     "metadata": {},
     "output_type": "display_data"
    },
    {
     "data": {
      "text/html": [
       "<pre>| 138          | 4.18849      | 11m 43s      |</pre>"
      ],
      "text/plain": [
       "| 138          | 4.18849      | 11m 43s      |"
      ]
     },
     "metadata": {},
     "output_type": "display_data"
    },
    {
     "data": {
      "text/html": [
       "<pre>| 139          | 4.25284      | 11m 54s      |</pre>"
      ],
      "text/plain": [
       "| 139          | 4.25284      | 11m 54s      |"
      ]
     },
     "metadata": {},
     "output_type": "display_data"
    },
    {
     "data": {
      "text/html": [
       "<pre>| 140          | 4.3115       | 11m 54s      |</pre>"
      ],
      "text/plain": [
       "| 140          | 4.3115       | 11m 54s      |"
      ]
     },
     "metadata": {},
     "output_type": "display_data"
    },
    {
     "data": {
      "text/html": [
       "<pre>| 141          | 4.30875      | 12m 4s       |</pre>"
      ],
      "text/plain": [
       "| 141          | 4.30875      | 12m 4s       |"
      ]
     },
     "metadata": {},
     "output_type": "display_data"
    },
    {
     "data": {
      "text/html": [
       "<pre>| 142          | 4.20228      | 12m 5s       |</pre>"
      ],
      "text/plain": [
       "| 142          | 4.20228      | 12m 5s       |"
      ]
     },
     "metadata": {},
     "output_type": "display_data"
    },
    {
     "data": {
      "text/html": [
       "<pre>| 143          | 4.2566       | 12m 15s      |</pre>"
      ],
      "text/plain": [
       "| 143          | 4.2566       | 12m 15s      |"
      ]
     },
     "metadata": {},
     "output_type": "display_data"
    },
    {
     "data": {
      "text/html": [
       "<pre>| 144          | 4.3201       | 12m 15s      |</pre>"
      ],
      "text/plain": [
       "| 144          | 4.3201       | 12m 15s      |"
      ]
     },
     "metadata": {},
     "output_type": "display_data"
    },
    {
     "data": {
      "text/html": [
       "<pre>| 145          | 4.29301      | 12m 25s      |</pre>"
      ],
      "text/plain": [
       "| 145          | 4.29301      | 12m 25s      |"
      ]
     },
     "metadata": {},
     "output_type": "display_data"
    },
    {
     "data": {
      "text/html": [
       "<pre>| 146          | 4.27761      | 12m 26s      |</pre>"
      ],
      "text/plain": [
       "| 146          | 4.27761      | 12m 26s      |"
      ]
     },
     "metadata": {},
     "output_type": "display_data"
    },
    {
     "data": {
      "text/html": [
       "<pre>| 147          | 4.24121      | 12m 31s      |</pre>"
      ],
      "text/plain": [
       "| 147          | 4.24121      | 12m 31s      |"
      ]
     },
     "metadata": {},
     "output_type": "display_data"
    },
    {
     "data": {
      "text/html": [
       "<pre>| 148          | 4.25792      | 12m 36s      |</pre>"
      ],
      "text/plain": [
       "| 148          | 4.25792      | 12m 36s      |"
      ]
     },
     "metadata": {},
     "output_type": "display_data"
    },
    {
     "data": {
      "text/html": [
       "<pre>| 149          | 4.23415      | 12m 41s      |</pre>"
      ],
      "text/plain": [
       "| 149          | 4.23415      | 12m 41s      |"
      ]
     },
     "metadata": {},
     "output_type": "display_data"
    },
    {
     "data": {
      "text/html": [
       "<pre>| 150          | 4.18892      | 12m 45s      |</pre>"
      ],
      "text/plain": [
       "| 150          | 4.18892      | 12m 45s      |"
      ]
     },
     "metadata": {},
     "output_type": "display_data"
    },
    {
     "data": {
      "text/html": [
       "<pre>| 151          | 4.19592      | 12m 50s      |</pre>"
      ],
      "text/plain": [
       "| 151          | 4.19592      | 12m 50s      |"
      ]
     },
     "metadata": {},
     "output_type": "display_data"
    },
    {
     "data": {
      "text/html": [
       "<pre>| 152          | 4.26911      | 12m 55s      |</pre>"
      ],
      "text/plain": [
       "| 152          | 4.26911      | 12m 55s      |"
      ]
     },
     "metadata": {},
     "output_type": "display_data"
    },
    {
     "data": {
      "text/html": [
       "<pre>| 153          | 4.25134      | 13m 0s       |</pre>"
      ],
      "text/plain": [
       "| 153          | 4.25134      | 13m 0s       |"
      ]
     },
     "metadata": {},
     "output_type": "display_data"
    },
    {
     "data": {
      "text/html": [
       "<pre>| 154          | 4.20242      | 13m 5s       |</pre>"
      ],
      "text/plain": [
       "| 154          | 4.20242      | 13m 5s       |"
      ]
     },
     "metadata": {},
     "output_type": "display_data"
    },
    {
     "data": {
      "text/html": [
       "<pre>| 155          | 4.24821      | 13m 10s      |</pre>"
      ],
      "text/plain": [
       "| 155          | 4.24821      | 13m 10s      |"
      ]
     },
     "metadata": {},
     "output_type": "display_data"
    },
    {
     "data": {
      "text/html": [
       "<pre>| 156          | 4.40647      | 13m 14s      |</pre>"
      ],
      "text/plain": [
       "| 156          | 4.40647      | 13m 14s      |"
      ]
     },
     "metadata": {},
     "output_type": "display_data"
    },
    {
     "data": {
      "text/html": [
       "<pre>| 157          | 4.39341      | 13m 19s      |</pre>"
      ],
      "text/plain": [
       "| 157          | 4.39341      | 13m 19s      |"
      ]
     },
     "metadata": {},
     "output_type": "display_data"
    },
    {
     "data": {
      "text/html": [
       "<pre>| 158          | 4.39906      | 13m 24s      |</pre>"
      ],
      "text/plain": [
       "| 158          | 4.39906      | 13m 24s      |"
      ]
     },
     "metadata": {},
     "output_type": "display_data"
    },
    {
     "data": {
      "text/html": [
       "<pre>| 159          | 4.41124      | 13m 29s      |</pre>"
      ],
      "text/plain": [
       "| 159          | 4.41124      | 13m 29s      |"
      ]
     },
     "metadata": {},
     "output_type": "display_data"
    },
    {
     "data": {
      "text/html": [
       "<pre>| 160          | 4.4729       | 13m 34s      |</pre>"
      ],
      "text/plain": [
       "| 160          | 4.4729       | 13m 34s      |"
      ]
     },
     "metadata": {},
     "output_type": "display_data"
    },
    {
     "data": {
      "text/html": [
       "<pre>| 161          | 4.56828      | 13m 39s      |</pre>"
      ],
      "text/plain": [
       "| 161          | 4.56828      | 13m 39s      |"
      ]
     },
     "metadata": {},
     "output_type": "display_data"
    },
    {
     "data": {
      "text/html": [
       "<pre>| 162          | 4.42759      | 13m 44s      |</pre>"
      ],
      "text/plain": [
       "| 162          | 4.42759      | 13m 44s      |"
      ]
     },
     "metadata": {},
     "output_type": "display_data"
    },
    {
     "data": {
      "text/html": [
       "<pre>| 163          | 4.39462      | 13m 48s      |</pre>"
      ],
      "text/plain": [
       "| 163          | 4.39462      | 13m 48s      |"
      ]
     },
     "metadata": {},
     "output_type": "display_data"
    },
    {
     "data": {
      "text/html": [
       "<pre>| 164          | 4.50527      | 13m 53s      |</pre>"
      ],
      "text/plain": [
       "| 164          | 4.50527      | 13m 53s      |"
      ]
     },
     "metadata": {},
     "output_type": "display_data"
    },
    {
     "data": {
      "text/html": [
       "<pre>| 165          | 4.41232      | 13m 59s      |</pre>"
      ],
      "text/plain": [
       "| 165          | 4.41232      | 13m 59s      |"
      ]
     },
     "metadata": {},
     "output_type": "display_data"
    },
    {
     "data": {
      "text/html": [
       "<pre>| 166          | 4.31082      | 14m 9s       |</pre>"
      ],
      "text/plain": [
       "| 166          | 4.31082      | 14m 9s       |"
      ]
     },
     "metadata": {},
     "output_type": "display_data"
    },
    {
     "data": {
      "text/html": [
       "<pre>| 167          | 4.19251      | 14m 9s       |</pre>"
      ],
      "text/plain": [
       "| 167          | 4.19251      | 14m 9s       |"
      ]
     },
     "metadata": {},
     "output_type": "display_data"
    },
    {
     "data": {
      "text/html": [
       "<pre>| 168          | 4.09442      | 14m 19s      |</pre>"
      ],
      "text/plain": [
       "| 168          | 4.09442      | 14m 19s      |"
      ]
     },
     "metadata": {},
     "output_type": "display_data"
    },
    {
     "data": {
      "text/html": [
       "<pre>| 169          | 3.99499      | 14m 20s      |</pre>"
      ],
      "text/plain": [
       "| 169          | 3.99499      | 14m 20s      |"
      ]
     },
     "metadata": {},
     "output_type": "display_data"
    },
    {
     "data": {
      "text/html": [
       "<pre>| 170          | 3.98547      | 14m 30s      |</pre>"
      ],
      "text/plain": [
       "| 170          | 3.98547      | 14m 30s      |"
      ]
     },
     "metadata": {},
     "output_type": "display_data"
    },
    {
     "data": {
      "text/html": [
       "<pre>| 171          | 4.01938      | 14m 30s      |</pre>"
      ],
      "text/plain": [
       "| 171          | 4.01938      | 14m 30s      |"
      ]
     },
     "metadata": {},
     "output_type": "display_data"
    },
    {
     "data": {
      "text/html": [
       "<pre>| 172          | 4.03245      | 14m 41s      |</pre>"
      ],
      "text/plain": [
       "| 172          | 4.03245      | 14m 41s      |"
      ]
     },
     "metadata": {},
     "output_type": "display_data"
    },
    {
     "data": {
      "text/html": [
       "<pre>| 173          | 4.04855      | 14m 41s      |</pre>"
      ],
      "text/plain": [
       "| 173          | 4.04855      | 14m 41s      |"
      ]
     },
     "metadata": {},
     "output_type": "display_data"
    },
    {
     "data": {
      "text/html": [
       "<pre>| 174          | 4.01186      | 14m 51s      |</pre>"
      ],
      "text/plain": [
       "| 174          | 4.01186      | 14m 51s      |"
      ]
     },
     "metadata": {},
     "output_type": "display_data"
    },
    {
     "data": {
      "text/html": [
       "<pre>| 175          | 3.98029      | 14m 51s      |</pre>"
      ],
      "text/plain": [
       "| 175          | 3.98029      | 14m 51s      |"
      ]
     },
     "metadata": {},
     "output_type": "display_data"
    },
    {
     "data": {
      "text/html": [
       "<pre>| 176          | 4.02732      | 15m 2s       |</pre>"
      ],
      "text/plain": [
       "| 176          | 4.02732      | 15m 2s       |"
      ]
     },
     "metadata": {},
     "output_type": "display_data"
    },
    {
     "data": {
      "text/html": [
       "<pre>| 177          | 4.10112      | 15m 2s       |</pre>"
      ],
      "text/plain": [
       "| 177          | 4.10112      | 15m 2s       |"
      ]
     },
     "metadata": {},
     "output_type": "display_data"
    },
    {
     "data": {
      "text/html": [
       "<pre>| 178          | 4.27916      | 15m 7s       |</pre>"
      ],
      "text/plain": [
       "| 178          | 4.27916      | 15m 7s       |"
      ]
     },
     "metadata": {},
     "output_type": "display_data"
    },
    {
     "data": {
      "text/html": [
       "<pre>| 179          | 4.28346      | 15m 12s      |</pre>"
      ],
      "text/plain": [
       "| 179          | 4.28346      | 15m 12s      |"
      ]
     },
     "metadata": {},
     "output_type": "display_data"
    },
    {
     "data": {
      "text/html": [
       "<pre>| 180          | 4.19211      | 15m 17s      |</pre>"
      ],
      "text/plain": [
       "| 180          | 4.19211      | 15m 17s      |"
      ]
     },
     "metadata": {},
     "output_type": "display_data"
    },
    {
     "data": {
      "text/html": [
       "<pre>| 181          | 4.30687      | 15m 21s      |</pre>"
      ],
      "text/plain": [
       "| 181          | 4.30687      | 15m 21s      |"
      ]
     },
     "metadata": {},
     "output_type": "display_data"
    },
    {
     "data": {
      "text/html": [
       "<pre>| 182          | 4.22788      | 15m 26s      |</pre>"
      ],
      "text/plain": [
       "| 182          | 4.22788      | 15m 26s      |"
      ]
     },
     "metadata": {},
     "output_type": "display_data"
    },
    {
     "data": {
      "text/html": [
       "<pre>| 183          | 4.187        | 15m 31s      |</pre>"
      ],
      "text/plain": [
       "| 183          | 4.187        | 15m 31s      |"
      ]
     },
     "metadata": {},
     "output_type": "display_data"
    },
    {
     "data": {
      "text/html": [
       "<pre>| 184          | 4.10265      | 15m 36s      |</pre>"
      ],
      "text/plain": [
       "| 184          | 4.10265      | 15m 36s      |"
      ]
     },
     "metadata": {},
     "output_type": "display_data"
    },
    {
     "data": {
      "text/html": [
       "<pre>| 185          | 4.24204      | 15m 41s      |</pre>"
      ],
      "text/plain": [
       "| 185          | 4.24204      | 15m 41s      |"
      ]
     },
     "metadata": {},
     "output_type": "display_data"
    },
    {
     "data": {
      "text/html": [
       "<pre>| 186          | 4.24813      | 15m 46s      |</pre>"
      ],
      "text/plain": [
       "| 186          | 4.24813      | 15m 46s      |"
      ]
     },
     "metadata": {},
     "output_type": "display_data"
    },
    {
     "data": {
      "text/html": [
       "<pre>| 187          | 4.34367      | 15m 50s      |</pre>"
      ],
      "text/plain": [
       "| 187          | 4.34367      | 15m 50s      |"
      ]
     },
     "metadata": {},
     "output_type": "display_data"
    },
    {
     "data": {
      "text/html": [
       "<pre>| 188          | 4.29274      | 15m 55s      |</pre>"
      ],
      "text/plain": [
       "| 188          | 4.29274      | 15m 55s      |"
      ]
     },
     "metadata": {},
     "output_type": "display_data"
    },
    {
     "data": {
      "text/html": [
       "<pre>| 189          | 4.29089      | 16m 0s       |</pre>"
      ],
      "text/plain": [
       "| 189          | 4.29089      | 16m 0s       |"
      ]
     },
     "metadata": {},
     "output_type": "display_data"
    },
    {
     "data": {
      "text/html": [
       "<pre>| 190          | 4.22837      | 16m 5s       |</pre>"
      ],
      "text/plain": [
       "| 190          | 4.22837      | 16m 5s       |"
      ]
     },
     "metadata": {},
     "output_type": "display_data"
    },
    {
     "data": {
      "text/html": [
       "<pre>| 191          | 4.19554      | 16m 10s      |</pre>"
      ],
      "text/plain": [
       "| 191          | 4.19554      | 16m 10s      |"
      ]
     },
     "metadata": {},
     "output_type": "display_data"
    },
    {
     "data": {
      "text/html": [
       "<pre>| 192          | 4.15594      | 16m 15s      |</pre>"
      ],
      "text/plain": [
       "| 192          | 4.15594      | 16m 15s      |"
      ]
     },
     "metadata": {},
     "output_type": "display_data"
    },
    {
     "data": {
      "text/html": [
       "<pre>| 193          | 4.12213      | 16m 19s      |</pre>"
      ],
      "text/plain": [
       "| 193          | 4.12213      | 16m 19s      |"
      ]
     },
     "metadata": {},
     "output_type": "display_data"
    },
    {
     "data": {
      "text/html": [
       "<pre>| 194          | 4.13832      | 16m 24s      |</pre>"
      ],
      "text/plain": [
       "| 194          | 4.13832      | 16m 24s      |"
      ]
     },
     "metadata": {},
     "output_type": "display_data"
    },
    {
     "data": {
      "text/html": [
       "<pre>| 195          | 4.16178      | 16m 29s      |</pre>"
      ],
      "text/plain": [
       "| 195          | 4.16178      | 16m 29s      |"
      ]
     },
     "metadata": {},
     "output_type": "display_data"
    },
    {
     "data": {
      "text/html": [
       "<pre>| 196          | 4.14076      | 16m 34s      |</pre>"
      ],
      "text/plain": [
       "| 196          | 4.14076      | 16m 34s      |"
      ]
     },
     "metadata": {},
     "output_type": "display_data"
    },
    {
     "data": {
      "text/html": [
       "<pre>| 197          | 4.13989      | 16m 39s      |</pre>"
      ],
      "text/plain": [
       "| 197          | 4.13989      | 16m 39s      |"
      ]
     },
     "metadata": {},
     "output_type": "display_data"
    },
    {
     "data": {
      "text/html": [
       "<pre>| 198          | 4.19989      | 16m 44s      |</pre>"
      ],
      "text/plain": [
       "| 198          | 4.19989      | 16m 44s      |"
      ]
     },
     "metadata": {},
     "output_type": "display_data"
    },
    {
     "data": {
      "text/html": [
       "<pre>| 199          | 4.09893      | 16m 49s      |</pre>"
      ],
      "text/plain": [
       "| 199          | 4.09893      | 16m 49s      |"
      ]
     },
     "metadata": {},
     "output_type": "display_data"
    },
    {
     "data": {
      "text/html": [
       "<pre>| 200          | 4.10359      | 16m 53s      |</pre>"
      ],
      "text/plain": [
       "| 200          | 4.10359      | 16m 53s      |"
      ]
     },
     "metadata": {},
     "output_type": "display_data"
    },
    {
     "data": {
      "text/html": [
       "<pre>| 201          | 3.97649      | 16m 58s      |</pre>"
      ],
      "text/plain": [
       "| 201          | 3.97649      | 16m 58s      |"
      ]
     },
     "metadata": {},
     "output_type": "display_data"
    },
    {
     "data": {
      "text/html": [
       "<pre>| 202          | 3.91418      | 17m 3s       |</pre>"
      ],
      "text/plain": [
       "| 202          | 3.91418      | 17m 3s       |"
      ]
     },
     "metadata": {},
     "output_type": "display_data"
    },
    {
     "data": {
      "text/html": [
       "<pre>| 203          | 3.82835      | 17m 8s       |</pre>"
      ],
      "text/plain": [
       "| 203          | 3.82835      | 17m 8s       |"
      ]
     },
     "metadata": {},
     "output_type": "display_data"
    },
    {
     "data": {
      "text/html": [
       "<pre>| 204          | 3.75994      | 17m 13s      |</pre>"
      ],
      "text/plain": [
       "| 204          | 3.75994      | 17m 13s      |"
      ]
     },
     "metadata": {},
     "output_type": "display_data"
    },
    {
     "data": {
      "text/html": [
       "<pre>| 205          | 3.90878      | 17m 17s      |</pre>"
      ],
      "text/plain": [
       "| 205          | 3.90878      | 17m 17s      |"
      ]
     },
     "metadata": {},
     "output_type": "display_data"
    },
    {
     "data": {
      "text/html": [
       "<pre>| 206          | 3.82192      | 17m 22s      |</pre>"
      ],
      "text/plain": [
       "| 206          | 3.82192      | 17m 22s      |"
      ]
     },
     "metadata": {},
     "output_type": "display_data"
    },
    {
     "data": {
      "text/html": [
       "<pre>| 207          | 3.87798      | 17m 27s      |</pre>"
      ],
      "text/plain": [
       "| 207          | 3.87798      | 17m 27s      |"
      ]
     },
     "metadata": {},
     "output_type": "display_data"
    },
    {
     "data": {
      "text/html": [
       "<pre>| 208          | 3.76918      | 17m 32s      |</pre>"
      ],
      "text/plain": [
       "| 208          | 3.76918      | 17m 32s      |"
      ]
     },
     "metadata": {},
     "output_type": "display_data"
    },
    {
     "data": {
      "text/html": [
       "<pre>| 209          | 3.88058      | 17m 37s      |</pre>"
      ],
      "text/plain": [
       "| 209          | 3.88058      | 17m 37s      |"
      ]
     },
     "metadata": {},
     "output_type": "display_data"
    },
    {
     "data": {
      "text/html": [
       "<pre>| 210          | 4.10516      | 17m 41s      |</pre>"
      ],
      "text/plain": [
       "| 210          | 4.10516      | 17m 41s      |"
      ]
     },
     "metadata": {},
     "output_type": "display_data"
    },
    {
     "data": {
      "text/html": [
       "<pre>| 211          | 4.26329      | 17m 46s      |</pre>"
      ],
      "text/plain": [
       "| 211          | 4.26329      | 17m 46s      |"
      ]
     },
     "metadata": {},
     "output_type": "display_data"
    },
    {
     "data": {
      "text/html": [
       "<pre>| 212          | 4.22034      | 17m 51s      |</pre>"
      ],
      "text/plain": [
       "| 212          | 4.22034      | 17m 51s      |"
      ]
     },
     "metadata": {},
     "output_type": "display_data"
    },
    {
     "data": {
      "text/html": [
       "<pre>| 213          | 4.17213      | 17m 56s      |</pre>"
      ],
      "text/plain": [
       "| 213          | 4.17213      | 17m 56s      |"
      ]
     },
     "metadata": {},
     "output_type": "display_data"
    },
    {
     "data": {
      "text/html": [
       "<pre>| 214          | 4.17         | 18m 1s       |</pre>"
      ],
      "text/plain": [
       "| 214          | 4.17         | 18m 1s       |"
      ]
     },
     "metadata": {},
     "output_type": "display_data"
    },
    {
     "data": {
      "text/html": [
       "<pre>| 215          | 4.07128      | 18m 6s       |</pre>"
      ],
      "text/plain": [
       "| 215          | 4.07128      | 18m 6s       |"
      ]
     },
     "metadata": {},
     "output_type": "display_data"
    },
    {
     "data": {
      "text/html": [
       "<pre>| 216          | 4.07734      | 18m 11s      |</pre>"
      ],
      "text/plain": [
       "| 216          | 4.07734      | 18m 11s      |"
      ]
     },
     "metadata": {},
     "output_type": "display_data"
    },
    {
     "data": {
      "text/html": [
       "<pre>| 217          | 4.13108      | 18m 15s      |</pre>"
      ],
      "text/plain": [
       "| 217          | 4.13108      | 18m 15s      |"
      ]
     },
     "metadata": {},
     "output_type": "display_data"
    },
    {
     "data": {
      "text/html": [
       "<pre>| 218          | 4.21848      | 18m 20s      |</pre>"
      ],
      "text/plain": [
       "| 218          | 4.21848      | 18m 20s      |"
      ]
     },
     "metadata": {},
     "output_type": "display_data"
    },
    {
     "data": {
      "text/html": [
       "<pre>| 219          | 4.1367       | 18m 25s      |</pre>"
      ],
      "text/plain": [
       "| 219          | 4.1367       | 18m 25s      |"
      ]
     },
     "metadata": {},
     "output_type": "display_data"
    },
    {
     "data": {
      "text/html": [
       "<pre>| 220          | 3.9886       | 18m 30s      |</pre>"
      ],
      "text/plain": [
       "| 220          | 3.9886       | 18m 30s      |"
      ]
     },
     "metadata": {},
     "output_type": "display_data"
    },
    {
     "data": {
      "text/html": [
       "<pre>| 221          | 3.95989      | 18m 35s      |</pre>"
      ],
      "text/plain": [
       "| 221          | 3.95989      | 18m 35s      |"
      ]
     },
     "metadata": {},
     "output_type": "display_data"
    },
    {
     "data": {
      "text/html": [
       "<pre>| 222          | 3.84165      | 18m 40s      |</pre>"
      ],
      "text/plain": [
       "| 222          | 3.84165      | 18m 40s      |"
      ]
     },
     "metadata": {},
     "output_type": "display_data"
    },
    {
     "data": {
      "text/html": [
       "<pre>| 223          | 3.82629      | 18m 45s      |</pre>"
      ],
      "text/plain": [
       "| 223          | 3.82629      | 18m 45s      |"
      ]
     },
     "metadata": {},
     "output_type": "display_data"
    },
    {
     "data": {
      "text/html": [
       "<pre>| 224          | 3.83636      | 18m 50s      |</pre>"
      ],
      "text/plain": [
       "| 224          | 3.83636      | 18m 50s      |"
      ]
     },
     "metadata": {},
     "output_type": "display_data"
    },
    {
     "data": {
      "text/html": [
       "<pre>| 225          | 3.74869      | 18m 55s      |</pre>"
      ],
      "text/plain": [
       "| 225          | 3.74869      | 18m 55s      |"
      ]
     },
     "metadata": {},
     "output_type": "display_data"
    },
    {
     "data": {
      "text/html": [
       "<pre>| 226          | 3.70719      | 18m 59s      |</pre>"
      ],
      "text/plain": [
       "| 226          | 3.70719      | 18m 59s      |"
      ]
     },
     "metadata": {},
     "output_type": "display_data"
    },
    {
     "data": {
      "text/html": [
       "<pre>| 227          | 3.71537      | 19m 4s       |</pre>"
      ],
      "text/plain": [
       "| 227          | 3.71537      | 19m 4s       |"
      ]
     },
     "metadata": {},
     "output_type": "display_data"
    },
    {
     "data": {
      "text/html": [
       "<pre>| 228          | 3.84409      | 19m 9s       |</pre>"
      ],
      "text/plain": [
       "| 228          | 3.84409      | 19m 9s       |"
      ]
     },
     "metadata": {},
     "output_type": "display_data"
    },
    {
     "data": {
      "text/html": [
       "<pre>| 229          | 3.91298      | 19m 14s      |</pre>"
      ],
      "text/plain": [
       "| 229          | 3.91298      | 19m 14s      |"
      ]
     },
     "metadata": {},
     "output_type": "display_data"
    },
    {
     "data": {
      "text/html": [
       "<pre>| 230          | 4.18022      | 19m 19s      |</pre>"
      ],
      "text/plain": [
       "| 230          | 4.18022      | 19m 19s      |"
      ]
     },
     "metadata": {},
     "output_type": "display_data"
    },
    {
     "data": {
      "text/html": [
       "<pre>| 231          | 4.11551      | 19m 24s      |</pre>"
      ],
      "text/plain": [
       "| 231          | 4.11551      | 19m 24s      |"
      ]
     },
     "metadata": {},
     "output_type": "display_data"
    },
    {
     "data": {
      "text/html": [
       "<pre>| 232          | 4.03513      | 19m 28s      |</pre>"
      ],
      "text/plain": [
       "| 232          | 4.03513      | 19m 28s      |"
      ]
     },
     "metadata": {},
     "output_type": "display_data"
    },
    {
     "data": {
      "text/html": [
       "<pre>| 233          | 3.99983      | 19m 33s      |</pre>"
      ],
      "text/plain": [
       "| 233          | 3.99983      | 19m 33s      |"
      ]
     },
     "metadata": {},
     "output_type": "display_data"
    },
    {
     "data": {
      "text/html": [
       "<pre>| 234          | 3.93574      | 19m 38s      |</pre>"
      ],
      "text/plain": [
       "| 234          | 3.93574      | 19m 38s      |"
      ]
     },
     "metadata": {},
     "output_type": "display_data"
    },
    {
     "data": {
      "text/html": [
       "<pre>| 235          | 3.92797      | 19m 43s      |</pre>"
      ],
      "text/plain": [
       "| 235          | 3.92797      | 19m 43s      |"
      ]
     },
     "metadata": {},
     "output_type": "display_data"
    },
    {
     "data": {
      "text/html": [
       "<pre>| 236          | 3.91282      | 19m 48s      |</pre>"
      ],
      "text/plain": [
       "| 236          | 3.91282      | 19m 48s      |"
      ]
     },
     "metadata": {},
     "output_type": "display_data"
    },
    {
     "data": {
      "text/html": [
       "<pre>| 237          | 3.94875      | 19m 53s      |</pre>"
      ],
      "text/plain": [
       "| 237          | 3.94875      | 19m 53s      |"
      ]
     },
     "metadata": {},
     "output_type": "display_data"
    },
    {
     "data": {
      "text/html": [
       "<pre>| 238          | 3.86988      | 19m 58s      |</pre>"
      ],
      "text/plain": [
       "| 238          | 3.86988      | 19m 58s      |"
      ]
     },
     "metadata": {},
     "output_type": "display_data"
    },
    {
     "data": {
      "text/html": [
       "<pre>| 239          | 3.75377      | 20m 3s       |</pre>"
      ],
      "text/plain": [
       "| 239          | 3.75377      | 20m 3s       |"
      ]
     },
     "metadata": {},
     "output_type": "display_data"
    },
    {
     "data": {
      "text/html": [
       "<pre>| 240          | 3.78802      | 20m 13s      |</pre>"
      ],
      "text/plain": [
       "| 240          | 3.78802      | 20m 13s      |"
      ]
     },
     "metadata": {},
     "output_type": "display_data"
    },
    {
     "data": {
      "text/html": [
       "<pre>| 241          | 3.79432      | 20m 14s      |</pre>"
      ],
      "text/plain": [
       "| 241          | 3.79432      | 20m 14s      |"
      ]
     },
     "metadata": {},
     "output_type": "display_data"
    },
    {
     "data": {
      "text/html": [
       "<pre>| 242          | 3.7074       | 20m 24s      |</pre>"
      ],
      "text/plain": [
       "| 242          | 3.7074       | 20m 24s      |"
      ]
     },
     "metadata": {},
     "output_type": "display_data"
    },
    {
     "data": {
      "text/html": [
       "<pre>| 243          | 3.82013      | 20m 24s      |</pre>"
      ],
      "text/plain": [
       "| 243          | 3.82013      | 20m 24s      |"
      ]
     },
     "metadata": {},
     "output_type": "display_data"
    },
    {
     "data": {
      "text/html": [
       "<pre>| 244          | 3.85265      | 20m 35s      |</pre>"
      ],
      "text/plain": [
       "| 244          | 3.85265      | 20m 35s      |"
      ]
     },
     "metadata": {},
     "output_type": "display_data"
    },
    {
     "data": {
      "text/html": [
       "<pre>| 245          | 3.86955      | 20m 35s      |</pre>"
      ],
      "text/plain": [
       "| 245          | 3.86955      | 20m 35s      |"
      ]
     },
     "metadata": {},
     "output_type": "display_data"
    },
    {
     "data": {
      "text/html": [
       "<pre>| 246          | 3.81785      | 20m 45s      |</pre>"
      ],
      "text/plain": [
       "| 246          | 3.81785      | 20m 45s      |"
      ]
     },
     "metadata": {},
     "output_type": "display_data"
    },
    {
     "data": {
      "text/html": [
       "<pre>| 247          | 3.9003       | 20m 45s      |</pre>"
      ],
      "text/plain": [
       "| 247          | 3.9003       | 20m 45s      |"
      ]
     },
     "metadata": {},
     "output_type": "display_data"
    },
    {
     "data": {
      "text/html": [
       "<pre>| 248          | 3.81043      | 20m 56s      |</pre>"
      ],
      "text/plain": [
       "| 248          | 3.81043      | 20m 56s      |"
      ]
     },
     "metadata": {},
     "output_type": "display_data"
    },
    {
     "data": {
      "text/html": [
       "<pre>| 249          | 3.78185      | 20m 56s      |</pre>"
      ],
      "text/plain": [
       "| 249          | 3.78185      | 20m 56s      |"
      ]
     },
     "metadata": {},
     "output_type": "display_data"
    },
    {
     "data": {
      "text/html": [
       "<pre>| 250          | 3.72068      | 21m 6s       |</pre>"
      ],
      "text/plain": [
       "| 250          | 3.72068      | 21m 6s       |"
      ]
     },
     "metadata": {},
     "output_type": "display_data"
    },
    {
     "data": {
      "text/html": [
       "<pre>| 251          | 3.77912      | 21m 7s       |</pre>"
      ],
      "text/plain": [
       "| 251          | 3.77912      | 21m 7s       |"
      ]
     },
     "metadata": {},
     "output_type": "display_data"
    },
    {
     "data": {
      "text/html": [
       "<pre>| 252          | 3.94995      | 21m 17s      |</pre>"
      ],
      "text/plain": [
       "| 252          | 3.94995      | 21m 17s      |"
      ]
     },
     "metadata": {},
     "output_type": "display_data"
    },
    {
     "data": {
      "text/html": [
       "<pre>| 253          | 3.99736      | 21m 17s      |</pre>"
      ],
      "text/plain": [
       "| 253          | 3.99736      | 21m 17s      |"
      ]
     },
     "metadata": {},
     "output_type": "display_data"
    },
    {
     "data": {
      "text/html": [
       "<pre>| 254          | 3.92745      | 21m 27s      |</pre>"
      ],
      "text/plain": [
       "| 254          | 3.92745      | 21m 27s      |"
      ]
     },
     "metadata": {},
     "output_type": "display_data"
    },
    {
     "data": {
      "text/html": [
       "<pre>| 255          | 3.80523      | 21m 28s      |</pre>"
      ],
      "text/plain": [
       "| 255          | 3.80523      | 21m 28s      |"
      ]
     },
     "metadata": {},
     "output_type": "display_data"
    },
    {
     "data": {
      "text/html": [
       "<pre>| 256          | 3.76431      | 21m 38s      |</pre>"
      ],
      "text/plain": [
       "| 256          | 3.76431      | 21m 38s      |"
      ]
     },
     "metadata": {},
     "output_type": "display_data"
    },
    {
     "data": {
      "text/html": [
       "<pre>| 257          | 3.69116      | 21m 38s      |</pre>"
      ],
      "text/plain": [
       "| 257          | 3.69116      | 21m 38s      |"
      ]
     },
     "metadata": {},
     "output_type": "display_data"
    },
    {
     "data": {
      "text/html": [
       "<pre>| 258          | 3.80263      | 21m 49s      |</pre>"
      ],
      "text/plain": [
       "| 258          | 3.80263      | 21m 49s      |"
      ]
     },
     "metadata": {},
     "output_type": "display_data"
    },
    {
     "data": {
      "text/html": [
       "<pre>| 259          | 3.82565      | 21m 49s      |</pre>"
      ],
      "text/plain": [
       "| 259          | 3.82565      | 21m 49s      |"
      ]
     },
     "metadata": {},
     "output_type": "display_data"
    },
    {
     "data": {
      "text/html": [
       "<pre>| 260          | 3.95794      | 21m 59s      |</pre>"
      ],
      "text/plain": [
       "| 260          | 3.95794      | 21m 59s      |"
      ]
     },
     "metadata": {},
     "output_type": "display_data"
    },
    {
     "data": {
      "text/html": [
       "<pre>| 261          | 3.83321      | 22m 0s       |</pre>"
      ],
      "text/plain": [
       "| 261          | 3.83321      | 22m 0s       |"
      ]
     },
     "metadata": {},
     "output_type": "display_data"
    },
    {
     "data": {
      "text/html": [
       "<pre>| 262          | 3.8692       | 22m 10s      |</pre>"
      ],
      "text/plain": [
       "| 262          | 3.8692       | 22m 10s      |"
      ]
     },
     "metadata": {},
     "output_type": "display_data"
    },
    {
     "data": {
      "text/html": [
       "<pre>| 263          | 3.8254       | 22m 10s      |</pre>"
      ],
      "text/plain": [
       "| 263          | 3.8254       | 22m 10s      |"
      ]
     },
     "metadata": {},
     "output_type": "display_data"
    },
    {
     "data": {
      "text/html": [
       "<pre>| 264          | 3.77566      | 22m 20s      |</pre>"
      ],
      "text/plain": [
       "| 264          | 3.77566      | 22m 20s      |"
      ]
     },
     "metadata": {},
     "output_type": "display_data"
    },
    {
     "data": {
      "text/html": [
       "<pre>| 265          | 3.74539      | 22m 21s      |</pre>"
      ],
      "text/plain": [
       "| 265          | 3.74539      | 22m 21s      |"
      ]
     },
     "metadata": {},
     "output_type": "display_data"
    },
    {
     "data": {
      "text/html": [
       "<pre>| 266          | 3.76478      | 22m 31s      |</pre>"
      ],
      "text/plain": [
       "| 266          | 3.76478      | 22m 31s      |"
      ]
     },
     "metadata": {},
     "output_type": "display_data"
    },
    {
     "data": {
      "text/html": [
       "<pre>| 267          | 3.8629       | 22m 31s      |</pre>"
      ],
      "text/plain": [
       "| 267          | 3.8629       | 22m 31s      |"
      ]
     },
     "metadata": {},
     "output_type": "display_data"
    },
    {
     "data": {
      "text/html": [
       "<pre>| 268          | 3.85575      | 22m 41s      |</pre>"
      ],
      "text/plain": [
       "| 268          | 3.85575      | 22m 41s      |"
      ]
     },
     "metadata": {},
     "output_type": "display_data"
    },
    {
     "data": {
      "text/html": [
       "<pre>| 269          | 3.8063       | 22m 42s      |</pre>"
      ],
      "text/plain": [
       "| 269          | 3.8063       | 22m 42s      |"
      ]
     },
     "metadata": {},
     "output_type": "display_data"
    },
    {
     "data": {
      "text/html": [
       "<pre>| 270          | 3.77722      | 22m 52s      |</pre>"
      ],
      "text/plain": [
       "| 270          | 3.77722      | 22m 52s      |"
      ]
     },
     "metadata": {},
     "output_type": "display_data"
    },
    {
     "data": {
      "text/html": [
       "<pre>| 271          | 3.83422      | 22m 52s      |</pre>"
      ],
      "text/plain": [
       "| 271          | 3.83422      | 22m 52s      |"
      ]
     },
     "metadata": {},
     "output_type": "display_data"
    },
    {
     "data": {
      "text/html": [
       "<pre>| 272          | 3.92184      | 23m 2s       |</pre>"
      ],
      "text/plain": [
       "| 272          | 3.92184      | 23m 2s       |"
      ]
     },
     "metadata": {},
     "output_type": "display_data"
    },
    {
     "data": {
      "text/html": [
       "<pre>| 273          | 3.93534      | 23m 3s       |</pre>"
      ],
      "text/plain": [
       "| 273          | 3.93534      | 23m 3s       |"
      ]
     },
     "metadata": {},
     "output_type": "display_data"
    },
    {
     "data": {
      "text/html": [
       "<pre>| 274          | 3.88419      | 23m 13s      |</pre>"
      ],
      "text/plain": [
       "| 274          | 3.88419      | 23m 13s      |"
      ]
     },
     "metadata": {},
     "output_type": "display_data"
    },
    {
     "data": {
      "text/html": [
       "<pre>| 275          | 3.90974      | 23m 13s      |</pre>"
      ],
      "text/plain": [
       "| 275          | 3.90974      | 23m 13s      |"
      ]
     },
     "metadata": {},
     "output_type": "display_data"
    },
    {
     "data": {
      "text/html": [
       "<pre>| 276          | 3.78602      | 23m 23s      |</pre>"
      ],
      "text/plain": [
       "| 276          | 3.78602      | 23m 23s      |"
      ]
     },
     "metadata": {},
     "output_type": "display_data"
    },
    {
     "data": {
      "text/html": [
       "<pre>| 277          | 3.66604      | 23m 24s      |</pre>"
      ],
      "text/plain": [
       "| 277          | 3.66604      | 23m 24s      |"
      ]
     },
     "metadata": {},
     "output_type": "display_data"
    },
    {
     "data": {
      "text/html": [
       "<pre>| 278          | 3.64194      | 23m 34s      |</pre>"
      ],
      "text/plain": [
       "| 278          | 3.64194      | 23m 34s      |"
      ]
     },
     "metadata": {},
     "output_type": "display_data"
    },
    {
     "data": {
      "text/html": [
       "<pre>| 279          | 3.70304      | 23m 34s      |</pre>"
      ],
      "text/plain": [
       "| 279          | 3.70304      | 23m 34s      |"
      ]
     },
     "metadata": {},
     "output_type": "display_data"
    },
    {
     "data": {
      "text/html": [
       "<pre>| 280          | 3.65568      | 23m 44s      |</pre>"
      ],
      "text/plain": [
       "| 280          | 3.65568      | 23m 44s      |"
      ]
     },
     "metadata": {},
     "output_type": "display_data"
    },
    {
     "data": {
      "text/html": [
       "<pre>| 281          | 3.67184      | 23m 45s      |</pre>"
      ],
      "text/plain": [
       "| 281          | 3.67184      | 23m 45s      |"
      ]
     },
     "metadata": {},
     "output_type": "display_data"
    },
    {
     "data": {
      "text/html": [
       "<pre>| 282          | 3.69388      | 23m 55s      |</pre>"
      ],
      "text/plain": [
       "| 282          | 3.69388      | 23m 55s      |"
      ]
     },
     "metadata": {},
     "output_type": "display_data"
    },
    {
     "data": {
      "text/html": [
       "<pre>| 283          | 3.74815      | 23m 55s      |</pre>"
      ],
      "text/plain": [
       "| 283          | 3.74815      | 23m 55s      |"
      ]
     },
     "metadata": {},
     "output_type": "display_data"
    },
    {
     "data": {
      "text/html": [
       "<pre>| 284          | 3.73881      | 24m 6s       |</pre>"
      ],
      "text/plain": [
       "| 284          | 3.73881      | 24m 6s       |"
      ]
     },
     "metadata": {},
     "output_type": "display_data"
    },
    {
     "data": {
      "text/html": [
       "<pre>| 285          | 3.81006      | 24m 6s       |</pre>"
      ],
      "text/plain": [
       "| 285          | 3.81006      | 24m 6s       |"
      ]
     },
     "metadata": {},
     "output_type": "display_data"
    },
    {
     "data": {
      "text/html": [
       "<pre>| 286          | 3.73496      | 24m 16s      |</pre>"
      ],
      "text/plain": [
       "| 286          | 3.73496      | 24m 16s      |"
      ]
     },
     "metadata": {},
     "output_type": "display_data"
    },
    {
     "data": {
      "text/html": [
       "<pre>| 287          | 3.63795      | 24m 16s      |</pre>"
      ],
      "text/plain": [
       "| 287          | 3.63795      | 24m 16s      |"
      ]
     },
     "metadata": {},
     "output_type": "display_data"
    },
    {
     "data": {
      "text/html": [
       "<pre>| 288          | 3.63705      | 24m 27s      |</pre>"
      ],
      "text/plain": [
       "| 288          | 3.63705      | 24m 27s      |"
      ]
     },
     "metadata": {},
     "output_type": "display_data"
    },
    {
     "data": {
      "text/html": [
       "<pre>| 289          | 3.62617      | 24m 27s      |</pre>"
      ],
      "text/plain": [
       "| 289          | 3.62617      | 24m 27s      |"
      ]
     },
     "metadata": {},
     "output_type": "display_data"
    },
    {
     "data": {
      "text/html": [
       "<pre>| 290          | 3.72858      | 24m 37s      |</pre>"
      ],
      "text/plain": [
       "| 290          | 3.72858      | 24m 37s      |"
      ]
     },
     "metadata": {},
     "output_type": "display_data"
    },
    {
     "data": {
      "text/html": [
       "<pre>| 291          | 3.77231      | 24m 38s      |</pre>"
      ],
      "text/plain": [
       "| 291          | 3.77231      | 24m 38s      |"
      ]
     },
     "metadata": {},
     "output_type": "display_data"
    },
    {
     "data": {
      "text/html": [
       "<pre>| 292          | 3.68794      | 24m 48s      |</pre>"
      ],
      "text/plain": [
       "| 292          | 3.68794      | 24m 48s      |"
      ]
     },
     "metadata": {},
     "output_type": "display_data"
    },
    {
     "data": {
      "text/html": [
       "<pre>| 293          | 3.66756      | 24m 48s      |</pre>"
      ],
      "text/plain": [
       "| 293          | 3.66756      | 24m 48s      |"
      ]
     },
     "metadata": {},
     "output_type": "display_data"
    },
    {
     "data": {
      "text/html": [
       "<pre>| 294          | 3.62676      | 24m 58s      |</pre>"
      ],
      "text/plain": [
       "| 294          | 3.62676      | 24m 58s      |"
      ]
     },
     "metadata": {},
     "output_type": "display_data"
    },
    {
     "data": {
      "text/html": [
       "<pre>| 295          | 3.61521      | 24m 59s      |</pre>"
      ],
      "text/plain": [
       "| 295          | 3.61521      | 24m 59s      |"
      ]
     },
     "metadata": {},
     "output_type": "display_data"
    },
    {
     "data": {
      "text/html": [
       "<pre>| 296          | 3.65679      | 25m 9s       |</pre>"
      ],
      "text/plain": [
       "| 296          | 3.65679      | 25m 9s       |"
      ]
     },
     "metadata": {},
     "output_type": "display_data"
    },
    {
     "data": {
      "text/html": [
       "<pre>| 297          | 3.70445      | 25m 9s       |</pre>"
      ],
      "text/plain": [
       "| 297          | 3.70445      | 25m 9s       |"
      ]
     },
     "metadata": {},
     "output_type": "display_data"
    },
    {
     "data": {
      "text/html": [
       "<pre>| 298          | 3.6795       | 25m 19s      |</pre>"
      ],
      "text/plain": [
       "| 298          | 3.6795       | 25m 19s      |"
      ]
     },
     "metadata": {},
     "output_type": "display_data"
    },
    {
     "data": {
      "text/html": [
       "<pre>| 299          | 3.78849      | 25m 20s      |</pre>"
      ],
      "text/plain": [
       "| 299          | 3.78849      | 25m 20s      |"
      ]
     },
     "metadata": {},
     "output_type": "display_data"
    },
    {
     "data": {
      "text/html": [
       "<pre>| 300          | 3.7445       | 25m 30s      |</pre>"
      ],
      "text/plain": [
       "| 300          | 3.7445       | 25m 30s      |"
      ]
     },
     "metadata": {},
     "output_type": "display_data"
    },
    {
     "data": {
      "text/html": [
       "<pre>| 301          | 3.76258      | 25m 30s      |</pre>"
      ],
      "text/plain": [
       "| 301          | 3.76258      | 25m 30s      |"
      ]
     },
     "metadata": {},
     "output_type": "display_data"
    },
    {
     "data": {
      "text/html": [
       "<pre>| 302          | 3.81356      | 25m 40s      |</pre>"
      ],
      "text/plain": [
       "| 302          | 3.81356      | 25m 40s      |"
      ]
     },
     "metadata": {},
     "output_type": "display_data"
    },
    {
     "data": {
      "text/html": [
       "<pre>| 303          | 3.79466      | 25m 41s      |</pre>"
      ],
      "text/plain": [
       "| 303          | 3.79466      | 25m 41s      |"
      ]
     },
     "metadata": {},
     "output_type": "display_data"
    },
    {
     "data": {
      "text/html": [
       "<pre>| 304          | 3.7963       | 25m 51s      |</pre>"
      ],
      "text/plain": [
       "| 304          | 3.7963       | 25m 51s      |"
      ]
     },
     "metadata": {},
     "output_type": "display_data"
    },
    {
     "data": {
      "text/html": [
       "<pre>| 305          | 3.70929      | 25m 51s      |</pre>"
      ],
      "text/plain": [
       "| 305          | 3.70929      | 25m 51s      |"
      ]
     },
     "metadata": {},
     "output_type": "display_data"
    },
    {
     "data": {
      "text/html": [
       "<pre>| 306          | 3.67894      | 26m 2s       |</pre>"
      ],
      "text/plain": [
       "| 306          | 3.67894      | 26m 2s       |"
      ]
     },
     "metadata": {},
     "output_type": "display_data"
    },
    {
     "data": {
      "text/html": [
       "<pre>| 307          | 3.60978      | 26m 2s       |</pre>"
      ],
      "text/plain": [
       "| 307          | 3.60978      | 26m 2s       |"
      ]
     },
     "metadata": {},
     "output_type": "display_data"
    },
    {
     "data": {
      "text/html": [
       "<pre>| 308          | 3.70855      | 26m 12s      |</pre>"
      ],
      "text/plain": [
       "| 308          | 3.70855      | 26m 12s      |"
      ]
     },
     "metadata": {},
     "output_type": "display_data"
    },
    {
     "data": {
      "text/html": [
       "<pre>| 309          | 3.59241      | 26m 12s      |</pre>"
      ],
      "text/plain": [
       "| 309          | 3.59241      | 26m 12s      |"
      ]
     },
     "metadata": {},
     "output_type": "display_data"
    },
    {
     "data": {
      "text/html": [
       "<pre>| 310          | 3.52617      | 26m 23s      |</pre>"
      ],
      "text/plain": [
       "| 310          | 3.52617      | 26m 23s      |"
      ]
     },
     "metadata": {},
     "output_type": "display_data"
    },
    {
     "data": {
      "text/html": [
       "<pre>| 311          | 3.4373       | 26m 23s      |</pre>"
      ],
      "text/plain": [
       "| 311          | 3.4373       | 26m 23s      |"
      ]
     },
     "metadata": {},
     "output_type": "display_data"
    },
    {
     "data": {
      "text/html": [
       "<pre>| 312          | 3.43638      | 26m 33s      |</pre>"
      ],
      "text/plain": [
       "| 312          | 3.43638      | 26m 33s      |"
      ]
     },
     "metadata": {},
     "output_type": "display_data"
    },
    {
     "data": {
      "text/html": [
       "<pre>| 313          | 3.3682       | 26m 34s      |</pre>"
      ],
      "text/plain": [
       "| 313          | 3.3682       | 26m 34s      |"
      ]
     },
     "metadata": {},
     "output_type": "display_data"
    },
    {
     "data": {
      "text/html": [
       "<pre>| 314          | 3.33235      | 26m 44s      |</pre>"
      ],
      "text/plain": [
       "| 314          | 3.33235      | 26m 44s      |"
      ]
     },
     "metadata": {},
     "output_type": "display_data"
    },
    {
     "data": {
      "text/html": [
       "<pre>| 315          | 3.34469      | 26m 44s      |</pre>"
      ],
      "text/plain": [
       "| 315          | 3.34469      | 26m 44s      |"
      ]
     },
     "metadata": {},
     "output_type": "display_data"
    },
    {
     "data": {
      "text/html": [
       "<pre>| 316          | 3.36549      | 26m 54s      |</pre>"
      ],
      "text/plain": [
       "| 316          | 3.36549      | 26m 54s      |"
      ]
     },
     "metadata": {},
     "output_type": "display_data"
    },
    {
     "data": {
      "text/html": [
       "<pre>| 317          | 3.44189      | 26m 55s      |</pre>"
      ],
      "text/plain": [
       "| 317          | 3.44189      | 26m 55s      |"
      ]
     },
     "metadata": {},
     "output_type": "display_data"
    },
    {
     "data": {
      "text/html": [
       "<pre>| 318          | 3.30131      | 27m 5s       |</pre>"
      ],
      "text/plain": [
       "| 318          | 3.30131      | 27m 5s       |"
      ]
     },
     "metadata": {},
     "output_type": "display_data"
    },
    {
     "data": {
      "text/html": [
       "<pre>| 319          | 3.30882      | 27m 5s       |</pre>"
      ],
      "text/plain": [
       "| 319          | 3.30882      | 27m 5s       |"
      ]
     },
     "metadata": {},
     "output_type": "display_data"
    },
    {
     "data": {
      "text/html": [
       "<pre>| 320          | 3.47611      | 27m 16s      |</pre>"
      ],
      "text/plain": [
       "| 320          | 3.47611      | 27m 16s      |"
      ]
     },
     "metadata": {},
     "output_type": "display_data"
    },
    {
     "data": {
      "text/html": [
       "<pre>| 321          | 3.56833      | 27m 16s      |</pre>"
      ],
      "text/plain": [
       "| 321          | 3.56833      | 27m 16s      |"
      ]
     },
     "metadata": {},
     "output_type": "display_data"
    },
    {
     "data": {
      "text/html": [
       "<pre>| 322          | 3.59888      | 27m 26s      |</pre>"
      ],
      "text/plain": [
       "| 322          | 3.59888      | 27m 26s      |"
      ]
     },
     "metadata": {},
     "output_type": "display_data"
    },
    {
     "data": {
      "text/html": [
       "<pre>| 323          | 3.61757      | 27m 27s      |</pre>"
      ],
      "text/plain": [
       "| 323          | 3.61757      | 27m 27s      |"
      ]
     },
     "metadata": {},
     "output_type": "display_data"
    },
    {
     "data": {
      "text/html": [
       "<pre>| 324          | 3.59259      | 27m 37s      |</pre>"
      ],
      "text/plain": [
       "| 324          | 3.59259      | 27m 37s      |"
      ]
     },
     "metadata": {},
     "output_type": "display_data"
    },
    {
     "data": {
      "text/html": [
       "<pre>| 325          | 3.59957      | 27m 37s      |</pre>"
      ],
      "text/plain": [
       "| 325          | 3.59957      | 27m 37s      |"
      ]
     },
     "metadata": {},
     "output_type": "display_data"
    },
    {
     "data": {
      "text/html": [
       "<pre>| 326          | 3.59718      | 27m 47s      |</pre>"
      ],
      "text/plain": [
       "| 326          | 3.59718      | 27m 47s      |"
      ]
     },
     "metadata": {},
     "output_type": "display_data"
    },
    {
     "data": {
      "text/html": [
       "<pre>| 327          | 3.56211      | 27m 48s      |</pre>"
      ],
      "text/plain": [
       "| 327          | 3.56211      | 27m 48s      |"
      ]
     },
     "metadata": {},
     "output_type": "display_data"
    },
    {
     "data": {
      "text/html": [
       "<pre>| 328          | 3.51795      | 27m 58s      |</pre>"
      ],
      "text/plain": [
       "| 328          | 3.51795      | 27m 58s      |"
      ]
     },
     "metadata": {},
     "output_type": "display_data"
    },
    {
     "data": {
      "text/html": [
       "<pre>| 329          | 3.51334      | 27m 58s      |</pre>"
      ],
      "text/plain": [
       "| 329          | 3.51334      | 27m 58s      |"
      ]
     },
     "metadata": {},
     "output_type": "display_data"
    },
    {
     "data": {
      "text/html": [
       "<pre>| 330          | 3.55072      | 28m 9s       |</pre>"
      ],
      "text/plain": [
       "| 330          | 3.55072      | 28m 9s       |"
      ]
     },
     "metadata": {},
     "output_type": "display_data"
    },
    {
     "data": {
      "text/html": [
       "<pre>| 331          | 3.5082       | 28m 9s       |</pre>"
      ],
      "text/plain": [
       "| 331          | 3.5082       | 28m 9s       |"
      ]
     },
     "metadata": {},
     "output_type": "display_data"
    },
    {
     "data": {
      "text/html": [
       "<pre>| 332          | 3.49404      | 28m 19s      |</pre>"
      ],
      "text/plain": [
       "| 332          | 3.49404      | 28m 19s      |"
      ]
     },
     "metadata": {},
     "output_type": "display_data"
    },
    {
     "data": {
      "text/html": [
       "<pre>| 333          | 3.5126       | 28m 20s      |</pre>"
      ],
      "text/plain": [
       "| 333          | 3.5126       | 28m 20s      |"
      ]
     },
     "metadata": {},
     "output_type": "display_data"
    },
    {
     "data": {
      "text/html": [
       "<pre>| 334          | 3.50436      | 28m 30s      |</pre>"
      ],
      "text/plain": [
       "| 334          | 3.50436      | 28m 30s      |"
      ]
     },
     "metadata": {},
     "output_type": "display_data"
    },
    {
     "data": {
      "text/html": [
       "<pre>| 335          | 3.64176      | 28m 30s      |</pre>"
      ],
      "text/plain": [
       "| 335          | 3.64176      | 28m 30s      |"
      ]
     },
     "metadata": {},
     "output_type": "display_data"
    },
    {
     "data": {
      "text/html": [
       "<pre>| 336          | 3.63963      | 28m 40s      |</pre>"
      ],
      "text/plain": [
       "| 336          | 3.63963      | 28m 40s      |"
      ]
     },
     "metadata": {},
     "output_type": "display_data"
    },
    {
     "data": {
      "text/html": [
       "<pre>| 337          | 3.66785      | 28m 41s      |</pre>"
      ],
      "text/plain": [
       "| 337          | 3.66785      | 28m 41s      |"
      ]
     },
     "metadata": {},
     "output_type": "display_data"
    },
    {
     "data": {
      "text/html": [
       "<pre>| 338          | 3.71351      | 28m 51s      |</pre>"
      ],
      "text/plain": [
       "| 338          | 3.71351      | 28m 51s      |"
      ]
     },
     "metadata": {},
     "output_type": "display_data"
    },
    {
     "data": {
      "text/html": [
       "<pre>| 339          | 3.6005       | 28m 51s      |</pre>"
      ],
      "text/plain": [
       "| 339          | 3.6005       | 28m 51s      |"
      ]
     },
     "metadata": {},
     "output_type": "display_data"
    },
    {
     "data": {
      "text/html": [
       "<pre>| 340          | 3.58929      | 29m 1s       |</pre>"
      ],
      "text/plain": [
       "| 340          | 3.58929      | 29m 1s       |"
      ]
     },
     "metadata": {},
     "output_type": "display_data"
    },
    {
     "data": {
      "text/html": [
       "<pre>| 341          | 3.54902      | 29m 2s       |</pre>"
      ],
      "text/plain": [
       "| 341          | 3.54902      | 29m 2s       |"
      ]
     },
     "metadata": {},
     "output_type": "display_data"
    },
    {
     "data": {
      "text/html": [
       "<pre>| 342          | 3.52034      | 29m 12s      |</pre>"
      ],
      "text/plain": [
       "| 342          | 3.52034      | 29m 12s      |"
      ]
     },
     "metadata": {},
     "output_type": "display_data"
    },
    {
     "data": {
      "text/html": [
       "<pre>| 343          | 3.5203       | 29m 12s      |</pre>"
      ],
      "text/plain": [
       "| 343          | 3.5203       | 29m 12s      |"
      ]
     },
     "metadata": {},
     "output_type": "display_data"
    },
    {
     "data": {
      "text/html": [
       "<pre>| 344          | 3.47601      | 29m 22s      |</pre>"
      ],
      "text/plain": [
       "| 344          | 3.47601      | 29m 22s      |"
      ]
     },
     "metadata": {},
     "output_type": "display_data"
    },
    {
     "data": {
      "text/html": [
       "<pre>| 345          | 3.46173      | 29m 23s      |</pre>"
      ],
      "text/plain": [
       "| 345          | 3.46173      | 29m 23s      |"
      ]
     },
     "metadata": {},
     "output_type": "display_data"
    },
    {
     "data": {
      "text/html": [
       "<pre>| 346          | 3.42756      | 29m 33s      |</pre>"
      ],
      "text/plain": [
       "| 346          | 3.42756      | 29m 33s      |"
      ]
     },
     "metadata": {},
     "output_type": "display_data"
    },
    {
     "data": {
      "text/html": [
       "<pre>| 347          | 3.34645      | 29m 34s      |</pre>"
      ],
      "text/plain": [
       "| 347          | 3.34645      | 29m 34s      |"
      ]
     },
     "metadata": {},
     "output_type": "display_data"
    },
    {
     "data": {
      "text/html": [
       "<pre>| 348          | 3.32541      | 29m 39s      |</pre>"
      ],
      "text/plain": [
       "| 348          | 3.32541      | 29m 39s      |"
      ]
     },
     "metadata": {},
     "output_type": "display_data"
    },
    {
     "data": {
      "text/html": [
       "<pre>| 349          | 3.25249      | 29m 44s      |</pre>"
      ],
      "text/plain": [
       "| 349          | 3.25249      | 29m 44s      |"
      ]
     },
     "metadata": {},
     "output_type": "display_data"
    },
    {
     "data": {
      "text/html": [
       "<pre>| 350          | 3.30375      | 29m 48s      |</pre>"
      ],
      "text/plain": [
       "| 350          | 3.30375      | 29m 48s      |"
      ]
     },
     "metadata": {},
     "output_type": "display_data"
    },
    {
     "data": {
      "text/html": [
       "<pre>| 351          | 3.26531      | 29m 53s      |</pre>"
      ],
      "text/plain": [
       "| 351          | 3.26531      | 29m 53s      |"
      ]
     },
     "metadata": {},
     "output_type": "display_data"
    },
    {
     "data": {
      "text/html": [
       "<pre>| 352          | 3.19495      | 29m 58s      |</pre>"
      ],
      "text/plain": [
       "| 352          | 3.19495      | 29m 58s      |"
      ]
     },
     "metadata": {},
     "output_type": "display_data"
    },
    {
     "data": {
      "text/html": [
       "<pre>| 353          | 3.40321      | 30m 3s       |</pre>"
      ],
      "text/plain": [
       "| 353          | 3.40321      | 30m 3s       |"
      ]
     },
     "metadata": {},
     "output_type": "display_data"
    },
    {
     "data": {
      "text/html": [
       "<pre>| 354          | 3.50007      | 30m 8s       |</pre>"
      ],
      "text/plain": [
       "| 354          | 3.50007      | 30m 8s       |"
      ]
     },
     "metadata": {},
     "output_type": "display_data"
    },
    {
     "data": {
      "text/html": [
       "<pre>| 355          | 3.4255       | 30m 12s      |</pre>"
      ],
      "text/plain": [
       "| 355          | 3.4255       | 30m 12s      |"
      ]
     },
     "metadata": {},
     "output_type": "display_data"
    },
    {
     "data": {
      "text/html": [
       "<pre>| 356          | 3.49436      | 30m 17s      |</pre>"
      ],
      "text/plain": [
       "| 356          | 3.49436      | 30m 17s      |"
      ]
     },
     "metadata": {},
     "output_type": "display_data"
    },
    {
     "data": {
      "text/html": [
       "<pre>| 357          | 3.60319      | 30m 22s      |</pre>"
      ],
      "text/plain": [
       "| 357          | 3.60319      | 30m 22s      |"
      ]
     },
     "metadata": {},
     "output_type": "display_data"
    },
    {
     "data": {
      "text/html": [
       "<pre>| 358          | 3.54683      | 30m 27s      |</pre>"
      ],
      "text/plain": [
       "| 358          | 3.54683      | 30m 27s      |"
      ]
     },
     "metadata": {},
     "output_type": "display_data"
    },
    {
     "data": {
      "text/html": [
       "<pre>| 359          | 3.54559      | 30m 32s      |</pre>"
      ],
      "text/plain": [
       "| 359          | 3.54559      | 30m 32s      |"
      ]
     },
     "metadata": {},
     "output_type": "display_data"
    },
    {
     "data": {
      "text/html": [
       "<pre>| 360          | 3.43166      | 30m 37s      |</pre>"
      ],
      "text/plain": [
       "| 360          | 3.43166      | 30m 37s      |"
      ]
     },
     "metadata": {},
     "output_type": "display_data"
    },
    {
     "data": {
      "text/html": [
       "<pre>| 361          | 3.44309      | 30m 41s      |</pre>"
      ],
      "text/plain": [
       "| 361          | 3.44309      | 30m 41s      |"
      ]
     },
     "metadata": {},
     "output_type": "display_data"
    },
    {
     "data": {
      "text/html": [
       "<pre>| 362          | 3.46021      | 30m 46s      |</pre>"
      ],
      "text/plain": [
       "| 362          | 3.46021      | 30m 46s      |"
      ]
     },
     "metadata": {},
     "output_type": "display_data"
    },
    {
     "data": {
      "text/html": [
       "<pre>| 363          | 3.48865      | 30m 51s      |</pre>"
      ],
      "text/plain": [
       "| 363          | 3.48865      | 30m 51s      |"
      ]
     },
     "metadata": {},
     "output_type": "display_data"
    },
    {
     "data": {
      "text/html": [
       "<pre>| 364          | 3.38737      | 30m 56s      |</pre>"
      ],
      "text/plain": [
       "| 364          | 3.38737      | 30m 56s      |"
      ]
     },
     "metadata": {},
     "output_type": "display_data"
    },
    {
     "data": {
      "text/html": [
       "<pre>| 365          | 3.32764      | 31m 1s       |</pre>"
      ],
      "text/plain": [
       "| 365          | 3.32764      | 31m 1s       |"
      ]
     },
     "metadata": {},
     "output_type": "display_data"
    },
    {
     "data": {
      "text/html": [
       "<pre>| 366          | 3.28225      | 31m 5s       |</pre>"
      ],
      "text/plain": [
       "| 366          | 3.28225      | 31m 5s       |"
      ]
     },
     "metadata": {},
     "output_type": "display_data"
    },
    {
     "data": {
      "text/html": [
       "<pre>| 367          | 3.28285      | 31m 10s      |</pre>"
      ],
      "text/plain": [
       "| 367          | 3.28285      | 31m 10s      |"
      ]
     },
     "metadata": {},
     "output_type": "display_data"
    },
    {
     "data": {
      "text/html": [
       "<pre>| 368          | 3.22767      | 31m 15s      |</pre>"
      ],
      "text/plain": [
       "| 368          | 3.22767      | 31m 15s      |"
      ]
     },
     "metadata": {},
     "output_type": "display_data"
    },
    {
     "data": {
      "text/html": [
       "<pre>| 369          | 3.18535      | 31m 20s      |</pre>"
      ],
      "text/plain": [
       "| 369          | 3.18535      | 31m 20s      |"
      ]
     },
     "metadata": {},
     "output_type": "display_data"
    },
    {
     "data": {
      "text/html": [
       "<pre>| 370          | 3.20583      | 31m 25s      |</pre>"
      ],
      "text/plain": [
       "| 370          | 3.20583      | 31m 25s      |"
      ]
     },
     "metadata": {},
     "output_type": "display_data"
    },
    {
     "data": {
      "text/html": [
       "<pre>| 371          | 3.21359      | 31m 30s      |</pre>"
      ],
      "text/plain": [
       "| 371          | 3.21359      | 31m 30s      |"
      ]
     },
     "metadata": {},
     "output_type": "display_data"
    },
    {
     "data": {
      "text/html": [
       "<pre>| 372          | 3.20535      | 31m 34s      |</pre>"
      ],
      "text/plain": [
       "| 372          | 3.20535      | 31m 34s      |"
      ]
     },
     "metadata": {},
     "output_type": "display_data"
    },
    {
     "data": {
      "text/html": [
       "<pre>| 373          | 3.24368      | 31m 39s      |</pre>"
      ],
      "text/plain": [
       "| 373          | 3.24368      | 31m 39s      |"
      ]
     },
     "metadata": {},
     "output_type": "display_data"
    },
    {
     "data": {
      "text/html": [
       "<pre>| 374          | 3.39636      | 31m 44s      |</pre>"
      ],
      "text/plain": [
       "| 374          | 3.39636      | 31m 44s      |"
      ]
     },
     "metadata": {},
     "output_type": "display_data"
    },
    {
     "data": {
      "text/html": [
       "<pre>| 375          | 3.46865      | 31m 49s      |</pre>"
      ],
      "text/plain": [
       "| 375          | 3.46865      | 31m 49s      |"
      ]
     },
     "metadata": {},
     "output_type": "display_data"
    },
    {
     "data": {
      "text/html": [
       "<pre>| 376          | 3.34723      | 31m 54s      |</pre>"
      ],
      "text/plain": [
       "| 376          | 3.34723      | 31m 54s      |"
      ]
     },
     "metadata": {},
     "output_type": "display_data"
    },
    {
     "data": {
      "text/html": [
       "<pre>| 377          | 3.29844      | 31m 58s      |</pre>"
      ],
      "text/plain": [
       "| 377          | 3.29844      | 31m 58s      |"
      ]
     },
     "metadata": {},
     "output_type": "display_data"
    },
    {
     "data": {
      "text/html": [
       "<pre>| 378          | 3.26866      | 32m 3s       |</pre>"
      ],
      "text/plain": [
       "| 378          | 3.26866      | 32m 3s       |"
      ]
     },
     "metadata": {},
     "output_type": "display_data"
    },
    {
     "data": {
      "text/html": [
       "<pre>| 379          | 3.27717      | 32m 8s       |</pre>"
      ],
      "text/plain": [
       "| 379          | 3.27717      | 32m 8s       |"
      ]
     },
     "metadata": {},
     "output_type": "display_data"
    },
    {
     "data": {
      "text/html": [
       "<pre>| 380          | 3.2969       | 32m 13s      |</pre>"
      ],
      "text/plain": [
       "| 380          | 3.2969       | 32m 13s      |"
      ]
     },
     "metadata": {},
     "output_type": "display_data"
    },
    {
     "data": {
      "text/html": [
       "<pre>| 381          | 3.33341      | 32m 18s      |</pre>"
      ],
      "text/plain": [
       "| 381          | 3.33341      | 32m 18s      |"
      ]
     },
     "metadata": {},
     "output_type": "display_data"
    },
    {
     "data": {
      "text/html": [
       "<pre>| 382          | 3.32689      | 32m 23s      |</pre>"
      ],
      "text/plain": [
       "| 382          | 3.32689      | 32m 23s      |"
      ]
     },
     "metadata": {},
     "output_type": "display_data"
    },
    {
     "data": {
      "text/html": [
       "<pre>| 383          | 3.37861      | 32m 27s      |</pre>"
      ],
      "text/plain": [
       "| 383          | 3.37861      | 32m 27s      |"
      ]
     },
     "metadata": {},
     "output_type": "display_data"
    },
    {
     "data": {
      "text/html": [
       "<pre>| 384          | 3.35608      | 32m 32s      |</pre>"
      ],
      "text/plain": [
       "| 384          | 3.35608      | 32m 32s      |"
      ]
     },
     "metadata": {},
     "output_type": "display_data"
    },
    {
     "data": {
      "text/html": [
       "<pre>| 385          | 3.32461      | 32m 37s      |</pre>"
      ],
      "text/plain": [
       "| 385          | 3.32461      | 32m 37s      |"
      ]
     },
     "metadata": {},
     "output_type": "display_data"
    },
    {
     "data": {
      "text/html": [
       "<pre>| 386          | 3.35246      | 32m 42s      |</pre>"
      ],
      "text/plain": [
       "| 386          | 3.35246      | 32m 42s      |"
      ]
     },
     "metadata": {},
     "output_type": "display_data"
    },
    {
     "data": {
      "text/html": [
       "<pre>| 387          | 3.40163      | 32m 47s      |</pre>"
      ],
      "text/plain": [
       "| 387          | 3.40163      | 32m 47s      |"
      ]
     },
     "metadata": {},
     "output_type": "display_data"
    },
    {
     "data": {
      "text/html": [
       "<pre>| 388          | 3.38504      | 32m 52s      |</pre>"
      ],
      "text/plain": [
       "| 388          | 3.38504      | 32m 52s      |"
      ]
     },
     "metadata": {},
     "output_type": "display_data"
    },
    {
     "data": {
      "text/html": [
       "<pre>| 389          | 3.29442      | 32m 56s      |</pre>"
      ],
      "text/plain": [
       "| 389          | 3.29442      | 32m 56s      |"
      ]
     },
     "metadata": {},
     "output_type": "display_data"
    },
    {
     "data": {
      "text/html": [
       "<pre>| 390          | 3.25121      | 33m 1s       |</pre>"
      ],
      "text/plain": [
       "| 390          | 3.25121      | 33m 1s       |"
      ]
     },
     "metadata": {},
     "output_type": "display_data"
    },
    {
     "data": {
      "text/html": [
       "<pre>| 391          | 3.19713      | 33m 6s       |</pre>"
      ],
      "text/plain": [
       "| 391          | 3.19713      | 33m 6s       |"
      ]
     },
     "metadata": {},
     "output_type": "display_data"
    },
    {
     "data": {
      "text/html": [
       "<pre>| 392          | 3.14745      | 33m 11s      |</pre>"
      ],
      "text/plain": [
       "| 392          | 3.14745      | 33m 11s      |"
      ]
     },
     "metadata": {},
     "output_type": "display_data"
    },
    {
     "data": {
      "text/html": [
       "<pre>| 393          | 3.202        | 33m 16s      |</pre>"
      ],
      "text/plain": [
       "| 393          | 3.202        | 33m 16s      |"
      ]
     },
     "metadata": {},
     "output_type": "display_data"
    },
    {
     "data": {
      "text/html": [
       "<pre>| 394          | 3.2188       | 33m 21s      |</pre>"
      ],
      "text/plain": [
       "| 394          | 3.2188       | 33m 21s      |"
      ]
     },
     "metadata": {},
     "output_type": "display_data"
    },
    {
     "data": {
      "text/html": [
       "<pre>| 395          | 3.18511      | 33m 25s      |</pre>"
      ],
      "text/plain": [
       "| 395          | 3.18511      | 33m 25s      |"
      ]
     },
     "metadata": {},
     "output_type": "display_data"
    },
    {
     "data": {
      "text/html": [
       "<pre>| 396          | 3.23668      | 33m 30s      |</pre>"
      ],
      "text/plain": [
       "| 396          | 3.23668      | 33m 30s      |"
      ]
     },
     "metadata": {},
     "output_type": "display_data"
    },
    {
     "data": {
      "text/html": [
       "<pre>| 397          | 3.27952      | 33m 35s      |</pre>"
      ],
      "text/plain": [
       "| 397          | 3.27952      | 33m 35s      |"
      ]
     },
     "metadata": {},
     "output_type": "display_data"
    },
    {
     "data": {
      "text/html": [
       "<pre>| 398          | 3.27857      | 33m 40s      |</pre>"
      ],
      "text/plain": [
       "| 398          | 3.27857      | 33m 40s      |"
      ]
     },
     "metadata": {},
     "output_type": "display_data"
    },
    {
     "data": {
      "text/html": [
       "<pre>| 399          | 3.2414       | 33m 45s      |</pre>"
      ],
      "text/plain": [
       "| 399          | 3.2414       | 33m 45s      |"
      ]
     },
     "metadata": {},
     "output_type": "display_data"
    },
    {
     "data": {
      "text/html": [
       "<pre>| 400          | 3.20854      | 33m 49s      |</pre>"
      ],
      "text/plain": [
       "| 400          | 3.20854      | 33m 49s      |"
      ]
     },
     "metadata": {},
     "output_type": "display_data"
    },
    {
     "data": {
      "text/html": [
       "<pre>| 401          | 3.16819      | 33m 54s      |</pre>"
      ],
      "text/plain": [
       "| 401          | 3.16819      | 33m 54s      |"
      ]
     },
     "metadata": {},
     "output_type": "display_data"
    },
    {
     "data": {
      "text/html": [
       "<pre>| 402          | 3.19293      | 33m 59s      |</pre>"
      ],
      "text/plain": [
       "| 402          | 3.19293      | 33m 59s      |"
      ]
     },
     "metadata": {},
     "output_type": "display_data"
    },
    {
     "data": {
      "text/html": [
       "<pre>| 403          | 3.15675      | 34m 4s       |</pre>"
      ],
      "text/plain": [
       "| 403          | 3.15675      | 34m 4s       |"
      ]
     },
     "metadata": {},
     "output_type": "display_data"
    },
    {
     "data": {
      "text/html": [
       "<pre>| 404          | 3.16784      | 34m 9s       |</pre>"
      ],
      "text/plain": [
       "| 404          | 3.16784      | 34m 9s       |"
      ]
     },
     "metadata": {},
     "output_type": "display_data"
    },
    {
     "data": {
      "text/html": [
       "<pre>| 405          | 3.11349      | 34m 14s      |</pre>"
      ],
      "text/plain": [
       "| 405          | 3.11349      | 34m 14s      |"
      ]
     },
     "metadata": {},
     "output_type": "display_data"
    },
    {
     "data": {
      "text/html": [
       "<pre>| 406          | 3.15954      | 34m 18s      |</pre>"
      ],
      "text/plain": [
       "| 406          | 3.15954      | 34m 18s      |"
      ]
     },
     "metadata": {},
     "output_type": "display_data"
    },
    {
     "data": {
      "text/html": [
       "<pre>| 407          | 3.09189      | 34m 23s      |</pre>"
      ],
      "text/plain": [
       "| 407          | 3.09189      | 34m 23s      |"
      ]
     },
     "metadata": {},
     "output_type": "display_data"
    },
    {
     "data": {
      "text/html": [
       "<pre>| 408          | 3.05049      | 34m 28s      |</pre>"
      ],
      "text/plain": [
       "| 408          | 3.05049      | 34m 28s      |"
      ]
     },
     "metadata": {},
     "output_type": "display_data"
    },
    {
     "data": {
      "text/html": [
       "<pre>| 409          | 2.98294      | 34m 33s      |</pre>"
      ],
      "text/plain": [
       "| 409          | 2.98294      | 34m 33s      |"
      ]
     },
     "metadata": {},
     "output_type": "display_data"
    },
    {
     "data": {
      "text/html": [
       "<pre>| 410          | 2.93038      | 34m 38s      |</pre>"
      ],
      "text/plain": [
       "| 410          | 2.93038      | 34m 38s      |"
      ]
     },
     "metadata": {},
     "output_type": "display_data"
    },
    {
     "data": {
      "text/html": [
       "<pre>| 411          | 2.93816      | 34m 43s      |</pre>"
      ],
      "text/plain": [
       "| 411          | 2.93816      | 34m 43s      |"
      ]
     },
     "metadata": {},
     "output_type": "display_data"
    },
    {
     "data": {
      "text/html": [
       "<pre>| 412          | 3.04846      | 34m 47s      |</pre>"
      ],
      "text/plain": [
       "| 412          | 3.04846      | 34m 47s      |"
      ]
     },
     "metadata": {},
     "output_type": "display_data"
    },
    {
     "data": {
      "text/html": [
       "<pre>| 413          | 3.10257      | 34m 52s      |</pre>"
      ],
      "text/plain": [
       "| 413          | 3.10257      | 34m 52s      |"
      ]
     },
     "metadata": {},
     "output_type": "display_data"
    },
    {
     "data": {
      "text/html": [
       "<pre>| 414          | 3.06788      | 34m 57s      |</pre>"
      ],
      "text/plain": [
       "| 414          | 3.06788      | 34m 57s      |"
      ]
     },
     "metadata": {},
     "output_type": "display_data"
    },
    {
     "data": {
      "text/html": [
       "<pre>| 415          | 3.02868      | 35m 2s       |</pre>"
      ],
      "text/plain": [
       "| 415          | 3.02868      | 35m 2s       |"
      ]
     },
     "metadata": {},
     "output_type": "display_data"
    },
    {
     "data": {
      "text/html": [
       "<pre>| 416          | 2.99947      | 35m 7s       |</pre>"
      ],
      "text/plain": [
       "| 416          | 2.99947      | 35m 7s       |"
      ]
     },
     "metadata": {},
     "output_type": "display_data"
    },
    {
     "data": {
      "text/html": [
       "<pre>| 417          | 3.03253      | 35m 11s      |</pre>"
      ],
      "text/plain": [
       "| 417          | 3.03253      | 35m 11s      |"
      ]
     },
     "metadata": {},
     "output_type": "display_data"
    },
    {
     "data": {
      "text/html": [
       "<pre>| 418          | 3.01138      | 35m 16s      |</pre>"
      ],
      "text/plain": [
       "| 418          | 3.01138      | 35m 16s      |"
      ]
     },
     "metadata": {},
     "output_type": "display_data"
    },
    {
     "data": {
      "text/html": [
       "<pre>| 419          | 2.96496      | 35m 21s      |</pre>"
      ],
      "text/plain": [
       "| 419          | 2.96496      | 35m 21s      |"
      ]
     },
     "metadata": {},
     "output_type": "display_data"
    },
    {
     "data": {
      "text/html": [
       "<pre>| 420          | 3.15198      | 35m 26s      |</pre>"
      ],
      "text/plain": [
       "| 420          | 3.15198      | 35m 26s      |"
      ]
     },
     "metadata": {},
     "output_type": "display_data"
    },
    {
     "data": {
      "text/html": [
       "<pre>| 421          | 3.23849      | 35m 31s      |</pre>"
      ],
      "text/plain": [
       "| 421          | 3.23849      | 35m 31s      |"
      ]
     },
     "metadata": {},
     "output_type": "display_data"
    },
    {
     "data": {
      "text/html": [
       "<pre>| 422          | 3.28627      | 35m 36s      |</pre>"
      ],
      "text/plain": [
       "| 422          | 3.28627      | 35m 36s      |"
      ]
     },
     "metadata": {},
     "output_type": "display_data"
    },
    {
     "data": {
      "text/html": [
       "<pre>| 423          | 3.26115      | 35m 40s      |</pre>"
      ],
      "text/plain": [
       "| 423          | 3.26115      | 35m 40s      |"
      ]
     },
     "metadata": {},
     "output_type": "display_data"
    },
    {
     "data": {
      "text/html": [
       "<pre>| 424          | 3.2213       | 35m 45s      |</pre>"
      ],
      "text/plain": [
       "| 424          | 3.2213       | 35m 45s      |"
      ]
     },
     "metadata": {},
     "output_type": "display_data"
    },
    {
     "data": {
      "text/html": [
       "<pre>| 425          | 3.16167      | 35m 50s      |</pre>"
      ],
      "text/plain": [
       "| 425          | 3.16167      | 35m 50s      |"
      ]
     },
     "metadata": {},
     "output_type": "display_data"
    },
    {
     "data": {
      "text/html": [
       "<pre>| 426          | 3.14193      | 35m 55s      |</pre>"
      ],
      "text/plain": [
       "| 426          | 3.14193      | 35m 55s      |"
      ]
     },
     "metadata": {},
     "output_type": "display_data"
    },
    {
     "data": {
      "text/html": [
       "<pre>| 427          | 3.22245      | 36m 0s       |</pre>"
      ],
      "text/plain": [
       "| 427          | 3.22245      | 36m 0s       |"
      ]
     },
     "metadata": {},
     "output_type": "display_data"
    },
    {
     "data": {
      "text/html": [
       "<pre>| 428          | 3.22787      | 36m 5s       |</pre>"
      ],
      "text/plain": [
       "| 428          | 3.22787      | 36m 5s       |"
      ]
     },
     "metadata": {},
     "output_type": "display_data"
    },
    {
     "data": {
      "text/html": [
       "<pre>| 429          | 3.20357      | 36m 9s       |</pre>"
      ],
      "text/plain": [
       "| 429          | 3.20357      | 36m 9s       |"
      ]
     },
     "metadata": {},
     "output_type": "display_data"
    },
    {
     "data": {
      "text/html": [
       "<pre>| 430          | 3.30644      | 36m 14s      |</pre>"
      ],
      "text/plain": [
       "| 430          | 3.30644      | 36m 14s      |"
      ]
     },
     "metadata": {},
     "output_type": "display_data"
    },
    {
     "data": {
      "text/html": [
       "<pre>| 431          | 3.19816      | 36m 19s      |</pre>"
      ],
      "text/plain": [
       "| 431          | 3.19816      | 36m 19s      |"
      ]
     },
     "metadata": {},
     "output_type": "display_data"
    },
    {
     "data": {
      "text/html": [
       "<pre>| 432          | 3.20235      | 36m 24s      |</pre>"
      ],
      "text/plain": [
       "| 432          | 3.20235      | 36m 24s      |"
      ]
     },
     "metadata": {},
     "output_type": "display_data"
    },
    {
     "data": {
      "text/html": [
       "<pre>| 433          | 3.27397      | 36m 29s      |</pre>"
      ],
      "text/plain": [
       "| 433          | 3.27397      | 36m 29s      |"
      ]
     },
     "metadata": {},
     "output_type": "display_data"
    },
    {
     "data": {
      "text/html": [
       "<pre>| 434          | 3.36394      | 36m 34s      |</pre>"
      ],
      "text/plain": [
       "| 434          | 3.36394      | 36m 34s      |"
      ]
     },
     "metadata": {},
     "output_type": "display_data"
    },
    {
     "data": {
      "text/html": [
       "<pre>| 435          | 3.44542      | 36m 38s      |</pre>"
      ],
      "text/plain": [
       "| 435          | 3.44542      | 36m 38s      |"
      ]
     },
     "metadata": {},
     "output_type": "display_data"
    },
    {
     "data": {
      "text/html": [
       "<pre>| 436          | 3.39856      | 36m 43s      |</pre>"
      ],
      "text/plain": [
       "| 436          | 3.39856      | 36m 43s      |"
      ]
     },
     "metadata": {},
     "output_type": "display_data"
    },
    {
     "data": {
      "text/html": [
       "<pre>| 437          | 3.37592      | 36m 48s      |</pre>"
      ],
      "text/plain": [
       "| 437          | 3.37592      | 36m 48s      |"
      ]
     },
     "metadata": {},
     "output_type": "display_data"
    },
    {
     "data": {
      "text/html": [
       "<pre>| 438          | 3.42235      | 36m 53s      |</pre>"
      ],
      "text/plain": [
       "| 438          | 3.42235      | 36m 53s      |"
      ]
     },
     "metadata": {},
     "output_type": "display_data"
    },
    {
     "data": {
      "text/html": [
       "<pre>| 439          | 3.34411      | 36m 58s      |</pre>"
      ],
      "text/plain": [
       "| 439          | 3.34411      | 36m 58s      |"
      ]
     },
     "metadata": {},
     "output_type": "display_data"
    },
    {
     "data": {
      "text/html": [
       "<pre>| 440          | 3.30085      | 37m 3s       |</pre>"
      ],
      "text/plain": [
       "| 440          | 3.30085      | 37m 3s       |"
      ]
     },
     "metadata": {},
     "output_type": "display_data"
    },
    {
     "data": {
      "text/html": [
       "<pre>| 441          | 3.3169       | 37m 7s       |</pre>"
      ],
      "text/plain": [
       "| 441          | 3.3169       | 37m 7s       |"
      ]
     },
     "metadata": {},
     "output_type": "display_data"
    },
    {
     "data": {
      "text/html": [
       "<pre>| 442          | 3.34422      | 37m 12s      |</pre>"
      ],
      "text/plain": [
       "| 442          | 3.34422      | 37m 12s      |"
      ]
     },
     "metadata": {},
     "output_type": "display_data"
    },
    {
     "data": {
      "text/html": [
       "<pre>| 443          | 3.32193      | 37m 17s      |</pre>"
      ],
      "text/plain": [
       "| 443          | 3.32193      | 37m 17s      |"
      ]
     },
     "metadata": {},
     "output_type": "display_data"
    },
    {
     "data": {
      "text/html": [
       "<pre>| 444          | 3.30219      | 37m 22s      |</pre>"
      ],
      "text/plain": [
       "| 444          | 3.30219      | 37m 22s      |"
      ]
     },
     "metadata": {},
     "output_type": "display_data"
    },
    {
     "data": {
      "text/html": [
       "<pre>| 445          | 3.22709      | 37m 27s      |</pre>"
      ],
      "text/plain": [
       "| 445          | 3.22709      | 37m 27s      |"
      ]
     },
     "metadata": {},
     "output_type": "display_data"
    },
    {
     "data": {
      "text/html": [
       "<pre>| 446          | 3.24668      | 37m 32s      |</pre>"
      ],
      "text/plain": [
       "| 446          | 3.24668      | 37m 32s      |"
      ]
     },
     "metadata": {},
     "output_type": "display_data"
    },
    {
     "data": {
      "text/html": [
       "<pre>| 447          | 3.16262      | 37m 36s      |</pre>"
      ],
      "text/plain": [
       "| 447          | 3.16262      | 37m 36s      |"
      ]
     },
     "metadata": {},
     "output_type": "display_data"
    },
    {
     "data": {
      "text/html": [
       "<pre>| 448          | 3.12474      | 37m 41s      |</pre>"
      ],
      "text/plain": [
       "| 448          | 3.12474      | 37m 41s      |"
      ]
     },
     "metadata": {},
     "output_type": "display_data"
    },
    {
     "data": {
      "text/html": [
       "<pre>| 449          | 3.08498      | 37m 46s      |</pre>"
      ],
      "text/plain": [
       "| 449          | 3.08498      | 37m 46s      |"
      ]
     },
     "metadata": {},
     "output_type": "display_data"
    },
    {
     "data": {
      "text/html": [
       "<pre>| 450          | 3.11307      | 37m 51s      |</pre>"
      ],
      "text/plain": [
       "| 450          | 3.11307      | 37m 51s      |"
      ]
     },
     "metadata": {},
     "output_type": "display_data"
    },
    {
     "data": {
      "text/html": [
       "<pre>| 451          | 3.07889      | 37m 56s      |</pre>"
      ],
      "text/plain": [
       "| 451          | 3.07889      | 37m 56s      |"
      ]
     },
     "metadata": {},
     "output_type": "display_data"
    },
    {
     "data": {
      "text/html": [
       "<pre>| 452          | 3.05451      | 38m 0s       |</pre>"
      ],
      "text/plain": [
       "| 452          | 3.05451      | 38m 0s       |"
      ]
     },
     "metadata": {},
     "output_type": "display_data"
    },
    {
     "data": {
      "text/html": [
       "<pre>| 453          | 3.17069      | 38m 5s       |</pre>"
      ],
      "text/plain": [
       "| 453          | 3.17069      | 38m 5s       |"
      ]
     },
     "metadata": {},
     "output_type": "display_data"
    },
    {
     "data": {
      "text/html": [
       "<pre>| 454          | 3.13937      | 38m 10s      |</pre>"
      ],
      "text/plain": [
       "| 454          | 3.13937      | 38m 10s      |"
      ]
     },
     "metadata": {},
     "output_type": "display_data"
    },
    {
     "data": {
      "text/html": [
       "<pre>| 455          | 3.12249      | 38m 15s      |</pre>"
      ],
      "text/plain": [
       "| 455          | 3.12249      | 38m 15s      |"
      ]
     },
     "metadata": {},
     "output_type": "display_data"
    },
    {
     "data": {
      "text/html": [
       "<pre>| 456          | 3.1722       | 38m 20s      |</pre>"
      ],
      "text/plain": [
       "| 456          | 3.1722       | 38m 20s      |"
      ]
     },
     "metadata": {},
     "output_type": "display_data"
    },
    {
     "data": {
      "text/html": [
       "<pre>| 457          | 3.06971      | 38m 25s      |</pre>"
      ],
      "text/plain": [
       "| 457          | 3.06971      | 38m 25s      |"
      ]
     },
     "metadata": {},
     "output_type": "display_data"
    },
    {
     "data": {
      "text/html": [
       "<pre>| 458          | 3.1605       | 38m 30s      |</pre>"
      ],
      "text/plain": [
       "| 458          | 3.1605       | 38m 30s      |"
      ]
     },
     "metadata": {},
     "output_type": "display_data"
    },
    {
     "data": {
      "text/html": [
       "<pre>| 459          | 3.14769      | 38m 40s      |</pre>"
      ],
      "text/plain": [
       "| 459          | 3.14769      | 38m 40s      |"
      ]
     },
     "metadata": {},
     "output_type": "display_data"
    },
    {
     "data": {
      "text/html": [
       "<pre>| 460          | 3.20696      | 38m 41s      |</pre>"
      ],
      "text/plain": [
       "| 460          | 3.20696      | 38m 41s      |"
      ]
     },
     "metadata": {},
     "output_type": "display_data"
    },
    {
     "data": {
      "text/html": [
       "<pre>| 461          | 3.16823      | 38m 51s      |</pre>"
      ],
      "text/plain": [
       "| 461          | 3.16823      | 38m 51s      |"
      ]
     },
     "metadata": {},
     "output_type": "display_data"
    },
    {
     "data": {
      "text/html": [
       "<pre>| 462          | 3.19739      | 38m 51s      |</pre>"
      ],
      "text/plain": [
       "| 462          | 3.19739      | 38m 51s      |"
      ]
     },
     "metadata": {},
     "output_type": "display_data"
    },
    {
     "data": {
      "text/html": [
       "<pre>| 463          | 3.1809       | 39m 1s       |</pre>"
      ],
      "text/plain": [
       "| 463          | 3.1809       | 39m 1s       |"
      ]
     },
     "metadata": {},
     "output_type": "display_data"
    },
    {
     "data": {
      "text/html": [
       "<pre>| 464          | 3.27208      | 39m 2s       |</pre>"
      ],
      "text/plain": [
       "| 464          | 3.27208      | 39m 2s       |"
      ]
     },
     "metadata": {},
     "output_type": "display_data"
    },
    {
     "data": {
      "text/html": [
       "<pre>| 465          | 3.26623      | 39m 12s      |</pre>"
      ],
      "text/plain": [
       "| 465          | 3.26623      | 39m 12s      |"
      ]
     },
     "metadata": {},
     "output_type": "display_data"
    },
    {
     "data": {
      "text/html": [
       "<pre>| 466          | 3.19113      | 39m 13s      |</pre>"
      ],
      "text/plain": [
       "| 466          | 3.19113      | 39m 13s      |"
      ]
     },
     "metadata": {},
     "output_type": "display_data"
    },
    {
     "data": {
      "text/html": [
       "<pre>| 467          | 3.09582      | 39m 23s      |</pre>"
      ],
      "text/plain": [
       "| 467          | 3.09582      | 39m 23s      |"
      ]
     },
     "metadata": {},
     "output_type": "display_data"
    },
    {
     "data": {
      "text/html": [
       "<pre>| 468          | 3.1657       | 39m 23s      |</pre>"
      ],
      "text/plain": [
       "| 468          | 3.1657       | 39m 23s      |"
      ]
     },
     "metadata": {},
     "output_type": "display_data"
    },
    {
     "data": {
      "text/html": [
       "<pre>| 469          | 3.22847      | 39m 28s      |</pre>"
      ],
      "text/plain": [
       "| 469          | 3.22847      | 39m 28s      |"
      ]
     },
     "metadata": {},
     "output_type": "display_data"
    },
    {
     "data": {
      "text/html": [
       "<pre>| 470          | 3.20155      | 39m 33s      |</pre>"
      ],
      "text/plain": [
       "| 470          | 3.20155      | 39m 33s      |"
      ]
     },
     "metadata": {},
     "output_type": "display_data"
    },
    {
     "data": {
      "text/html": [
       "<pre>| 471          | 3.18842      | 39m 38s      |</pre>"
      ],
      "text/plain": [
       "| 471          | 3.18842      | 39m 38s      |"
      ]
     },
     "metadata": {},
     "output_type": "display_data"
    },
    {
     "data": {
      "text/html": [
       "<pre>| 472          | 3.21319      | 39m 43s      |</pre>"
      ],
      "text/plain": [
       "| 472          | 3.21319      | 39m 43s      |"
      ]
     },
     "metadata": {},
     "output_type": "display_data"
    },
    {
     "data": {
      "text/html": [
       "<pre>| 473          | 3.23417      | 39m 52s      |</pre>"
      ],
      "text/plain": [
       "| 473          | 3.23417      | 39m 52s      |"
      ]
     },
     "metadata": {},
     "output_type": "display_data"
    },
    {
     "data": {
      "text/html": [
       "<pre>| 474          | 3.27432      | 1h 9m        |</pre>"
      ],
      "text/plain": [
       "| 474          | 3.27432      | 1h 9m        |"
      ]
     },
     "metadata": {},
     "output_type": "display_data"
    },
    {
     "data": {
      "text/html": [
       "<pre>| 475          | 3.18439      | 1h 9m        |</pre>"
      ],
      "text/plain": [
       "| 475          | 3.18439      | 1h 9m        |"
      ]
     },
     "metadata": {},
     "output_type": "display_data"
    },
    {
     "data": {
      "text/html": [
       "<pre>| 476          | 3.2876       | 1h 10m       |</pre>"
      ],
      "text/plain": [
       "| 476          | 3.2876       | 1h 10m       |"
      ]
     },
     "metadata": {},
     "output_type": "display_data"
    },
    {
     "data": {
      "text/html": [
       "<pre>| 477          | 3.21045      | 1h 13m       |</pre>"
      ],
      "text/plain": [
       "| 477          | 3.21045      | 1h 13m       |"
      ]
     },
     "metadata": {},
     "output_type": "display_data"
    },
    {
     "data": {
      "text/html": [
       "<pre>| 478          | 3.12525      | 1h 13m       |</pre>"
      ],
      "text/plain": [
       "| 478          | 3.12525      | 1h 13m       |"
      ]
     },
     "metadata": {},
     "output_type": "display_data"
    },
    {
     "data": {
      "text/html": [
       "<pre>| 479          | 3.18807      | 1h 13m       |</pre>"
      ],
      "text/plain": [
       "| 479          | 3.18807      | 1h 13m       |"
      ]
     },
     "metadata": {},
     "output_type": "display_data"
    },
    {
     "data": {
      "text/html": [
       "<pre>| 480          | 3.17673      | 1h 13m       |</pre>"
      ],
      "text/plain": [
       "| 480          | 3.17673      | 1h 13m       |"
      ]
     },
     "metadata": {},
     "output_type": "display_data"
    },
    {
     "data": {
      "text/html": [
       "<pre>| 481          | 3.1644       | 1h 13m       |</pre>"
      ],
      "text/plain": [
       "| 481          | 3.1644       | 1h 13m       |"
      ]
     },
     "metadata": {},
     "output_type": "display_data"
    },
    {
     "data": {
      "text/html": [
       "<pre>| 482          | 3.15595      | 1h 13m       |</pre>"
      ],
      "text/plain": [
       "| 482          | 3.15595      | 1h 13m       |"
      ]
     },
     "metadata": {},
     "output_type": "display_data"
    },
    {
     "data": {
      "text/html": [
       "<pre>| 483          | 3.12944      | 1h 13m       |</pre>"
      ],
      "text/plain": [
       "| 483          | 3.12944      | 1h 13m       |"
      ]
     },
     "metadata": {},
     "output_type": "display_data"
    },
    {
     "data": {
      "text/html": [
       "<pre>| 484          | 3.16543      | 1h 13m       |</pre>"
      ],
      "text/plain": [
       "| 484          | 3.16543      | 1h 13m       |"
      ]
     },
     "metadata": {},
     "output_type": "display_data"
    },
    {
     "data": {
      "text/html": [
       "<pre>| 485          | 3.2071       | 1h 14m       |</pre>"
      ],
      "text/plain": [
       "| 485          | 3.2071       | 1h 14m       |"
      ]
     },
     "metadata": {},
     "output_type": "display_data"
    },
    {
     "data": {
      "text/html": [
       "<pre>| 486          | 3.29131      | 1h 14m       |</pre>"
      ],
      "text/plain": [
       "| 486          | 3.29131      | 1h 14m       |"
      ]
     },
     "metadata": {},
     "output_type": "display_data"
    },
    {
     "data": {
      "text/html": [
       "<pre>| 487          | 3.23561      | 1h 14m       |</pre>"
      ],
      "text/plain": [
       "| 487          | 3.23561      | 1h 14m       |"
      ]
     },
     "metadata": {},
     "output_type": "display_data"
    },
    {
     "data": {
      "text/html": [
       "<pre>| 488          | 3.29953      | 1h 14m       |</pre>"
      ],
      "text/plain": [
       "| 488          | 3.29953      | 1h 14m       |"
      ]
     },
     "metadata": {},
     "output_type": "display_data"
    },
    {
     "data": {
      "text/html": [
       "<pre>| 489          | 3.29689      | 1h 14m       |</pre>"
      ],
      "text/plain": [
       "| 489          | 3.29689      | 1h 14m       |"
      ]
     },
     "metadata": {},
     "output_type": "display_data"
    },
    {
     "data": {
      "text/html": [
       "<pre>| 490          | 3.30063      | 1h 14m       |</pre>"
      ],
      "text/plain": [
       "| 490          | 3.30063      | 1h 14m       |"
      ]
     },
     "metadata": {},
     "output_type": "display_data"
    },
    {
     "data": {
      "text/html": [
       "<pre>| 491          | 3.23141      | 1h 14m       |</pre>"
      ],
      "text/plain": [
       "| 491          | 3.23141      | 1h 14m       |"
      ]
     },
     "metadata": {},
     "output_type": "display_data"
    },
    {
     "data": {
      "text/html": [
       "<pre>| 492          | 3.23701      | 1h 14m       |</pre>"
      ],
      "text/plain": [
       "| 492          | 3.23701      | 1h 14m       |"
      ]
     },
     "metadata": {},
     "output_type": "display_data"
    },
    {
     "data": {
      "text/html": [
       "<pre>| 493          | 3.15093      | 1h 14m       |</pre>"
      ],
      "text/plain": [
       "| 493          | 3.15093      | 1h 14m       |"
      ]
     },
     "metadata": {},
     "output_type": "display_data"
    },
    {
     "data": {
      "text/html": [
       "<pre>| 494          | 3.2524       | 1h 14m       |</pre>"
      ],
      "text/plain": [
       "| 494          | 3.2524       | 1h 14m       |"
      ]
     },
     "metadata": {},
     "output_type": "display_data"
    },
    {
     "data": {
      "text/html": [
       "<pre>| 495          | 3.2345       | 1h 14m       |</pre>"
      ],
      "text/plain": [
       "| 495          | 3.2345       | 1h 14m       |"
      ]
     },
     "metadata": {},
     "output_type": "display_data"
    },
    {
     "data": {
      "text/html": [
       "<pre>| 496          | 3.26661      | 1h 14m       |</pre>"
      ],
      "text/plain": [
       "| 496          | 3.26661      | 1h 14m       |"
      ]
     },
     "metadata": {},
     "output_type": "display_data"
    },
    {
     "data": {
      "text/html": [
       "<pre>| 497          | 3.13446      | 1h 15m       |</pre>"
      ],
      "text/plain": [
       "| 497          | 3.13446      | 1h 15m       |"
      ]
     },
     "metadata": {},
     "output_type": "display_data"
    },
    {
     "data": {
      "text/html": [
       "<pre>| 498          | 3.16967      | 1h 15m       |</pre>"
      ],
      "text/plain": [
       "| 498          | 3.16967      | 1h 15m       |"
      ]
     },
     "metadata": {},
     "output_type": "display_data"
    },
    {
     "data": {
      "text/html": [
       "<pre>| 499          | 3.23234      | 1h 15m       |</pre>"
      ],
      "text/plain": [
       "| 499          | 3.23234      | 1h 15m       |"
      ]
     },
     "metadata": {},
     "output_type": "display_data"
    },
    {
     "data": {
      "text/html": [
       "<pre>| 500          | 3.28932      | 1h 15m       |</pre>"
      ],
      "text/plain": [
       "| 500          | 3.28932      | 1h 15m       |"
      ]
     },
     "metadata": {},
     "output_type": "display_data"
    },
    {
     "data": {
      "text/html": [
       "<pre>| 501          | 3.28479      | 1h 15m       |</pre>"
      ],
      "text/plain": [
       "| 501          | 3.28479      | 1h 15m       |"
      ]
     },
     "metadata": {},
     "output_type": "display_data"
    },
    {
     "data": {
      "text/html": [
       "<pre>| 502          | 3.30157      | 1h 15m       |</pre>"
      ],
      "text/plain": [
       "| 502          | 3.30157      | 1h 15m       |"
      ]
     },
     "metadata": {},
     "output_type": "display_data"
    },
    {
     "data": {
      "text/html": [
       "<pre>| 503          | 3.22281      | 1h 15m       |</pre>"
      ],
      "text/plain": [
       "| 503          | 3.22281      | 1h 15m       |"
      ]
     },
     "metadata": {},
     "output_type": "display_data"
    },
    {
     "data": {
      "text/html": [
       "<pre>| 504          | 3.21087      | 1h 15m       |</pre>"
      ],
      "text/plain": [
       "| 504          | 3.21087      | 1h 15m       |"
      ]
     },
     "metadata": {},
     "output_type": "display_data"
    },
    {
     "data": {
      "text/html": [
       "<pre>| 505          | 3.14994      | 1h 15m       |</pre>"
      ],
      "text/plain": [
       "| 505          | 3.14994      | 1h 15m       |"
      ]
     },
     "metadata": {},
     "output_type": "display_data"
    },
    {
     "data": {
      "text/html": [
       "<pre>| 506          | 3.19105      | 1h 15m       |</pre>"
      ],
      "text/plain": [
       "| 506          | 3.19105      | 1h 15m       |"
      ]
     },
     "metadata": {},
     "output_type": "display_data"
    },
    {
     "data": {
      "text/html": [
       "<pre>| 507          | 3.29232      | 1h 15m       |</pre>"
      ],
      "text/plain": [
       "| 507          | 3.29232      | 1h 15m       |"
      ]
     },
     "metadata": {},
     "output_type": "display_data"
    },
    {
     "data": {
      "text/html": [
       "<pre>| 508          | 3.32319      | 1h 15m       |</pre>"
      ],
      "text/plain": [
       "| 508          | 3.32319      | 1h 15m       |"
      ]
     },
     "metadata": {},
     "output_type": "display_data"
    },
    {
     "data": {
      "text/html": [
       "<pre>| 509          | 3.20816      | 1h 15m       |</pre>"
      ],
      "text/plain": [
       "| 509          | 3.20816      | 1h 15m       |"
      ]
     },
     "metadata": {},
     "output_type": "display_data"
    },
    {
     "data": {
      "text/html": [
       "<pre>| 510          | 3.16657      | 1h 16m       |</pre>"
      ],
      "text/plain": [
       "| 510          | 3.16657      | 1h 16m       |"
      ]
     },
     "metadata": {},
     "output_type": "display_data"
    },
    {
     "data": {
      "text/html": [
       "<pre>| 511          | 3.15234      | 1h 16m       |</pre>"
      ],
      "text/plain": [
       "| 511          | 3.15234      | 1h 16m       |"
      ]
     },
     "metadata": {},
     "output_type": "display_data"
    },
    {
     "data": {
      "text/html": [
       "<pre>| 512          | 3.13861      | 1h 16m       |</pre>"
      ],
      "text/plain": [
       "| 512          | 3.13861      | 1h 16m       |"
      ]
     },
     "metadata": {},
     "output_type": "display_data"
    },
    {
     "data": {
      "text/html": [
       "<pre>| 513          | 3.22239      | 1h 16m       |</pre>"
      ],
      "text/plain": [
       "| 513          | 3.22239      | 1h 16m       |"
      ]
     },
     "metadata": {},
     "output_type": "display_data"
    },
    {
     "data": {
      "text/html": [
       "<pre>| 514          | 3.11625      | 1h 16m       |</pre>"
      ],
      "text/plain": [
       "| 514          | 3.11625      | 1h 16m       |"
      ]
     },
     "metadata": {},
     "output_type": "display_data"
    },
    {
     "data": {
      "text/html": [
       "<pre>| 515          | 3.10332      | 1h 16m       |</pre>"
      ],
      "text/plain": [
       "| 515          | 3.10332      | 1h 16m       |"
      ]
     },
     "metadata": {},
     "output_type": "display_data"
    },
    {
     "data": {
      "text/html": [
       "<pre>| 516          | 3.1159       | 1h 16m       |</pre>"
      ],
      "text/plain": [
       "| 516          | 3.1159       | 1h 16m       |"
      ]
     },
     "metadata": {},
     "output_type": "display_data"
    },
    {
     "data": {
      "text/html": [
       "<pre>| 517          | 3.08287      | 1h 16m       |</pre>"
      ],
      "text/plain": [
       "| 517          | 3.08287      | 1h 16m       |"
      ]
     },
     "metadata": {},
     "output_type": "display_data"
    },
    {
     "data": {
      "text/html": [
       "<pre>| 518          | 3.11851      | 1h 16m       |</pre>"
      ],
      "text/plain": [
       "| 518          | 3.11851      | 1h 16m       |"
      ]
     },
     "metadata": {},
     "output_type": "display_data"
    },
    {
     "data": {
      "text/html": [
       "<pre>| 519          | 3.25413      | 1h 16m       |</pre>"
      ],
      "text/plain": [
       "| 519          | 3.25413      | 1h 16m       |"
      ]
     },
     "metadata": {},
     "output_type": "display_data"
    },
    {
     "data": {
      "text/html": [
       "<pre>| 520          | 3.32518      | 1h 17m       |</pre>"
      ],
      "text/plain": [
       "| 520          | 3.32518      | 1h 17m       |"
      ]
     },
     "metadata": {},
     "output_type": "display_data"
    },
    {
     "data": {
      "text/html": [
       "<pre>| 521          | 3.2206       | 1h 17m       |</pre>"
      ],
      "text/plain": [
       "| 521          | 3.2206       | 1h 17m       |"
      ]
     },
     "metadata": {},
     "output_type": "display_data"
    },
    {
     "data": {
      "text/html": [
       "<pre>| 522          | 3.19095      | 1h 17m       |</pre>"
      ],
      "text/plain": [
       "| 522          | 3.19095      | 1h 17m       |"
      ]
     },
     "metadata": {},
     "output_type": "display_data"
    },
    {
     "data": {
      "text/html": [
       "<pre>| 523          | 3.31871      | 1h 17m       |</pre>"
      ],
      "text/plain": [
       "| 523          | 3.31871      | 1h 17m       |"
      ]
     },
     "metadata": {},
     "output_type": "display_data"
    },
    {
     "data": {
      "text/html": [
       "<pre>| 524          | 3.31991      | 1h 17m       |</pre>"
      ],
      "text/plain": [
       "| 524          | 3.31991      | 1h 17m       |"
      ]
     },
     "metadata": {},
     "output_type": "display_data"
    },
    {
     "data": {
      "text/html": [
       "<pre>| 525          | 3.39016      | 1h 17m       |</pre>"
      ],
      "text/plain": [
       "| 525          | 3.39016      | 1h 17m       |"
      ]
     },
     "metadata": {},
     "output_type": "display_data"
    },
    {
     "data": {
      "text/html": [
       "<pre>| 526          | 3.34531      | 1h 17m       |</pre>"
      ],
      "text/plain": [
       "| 526          | 3.34531      | 1h 17m       |"
      ]
     },
     "metadata": {},
     "output_type": "display_data"
    },
    {
     "data": {
      "text/html": [
       "<pre>| 527          | 3.29611      | 1h 17m       |</pre>"
      ],
      "text/plain": [
       "| 527          | 3.29611      | 1h 17m       |"
      ]
     },
     "metadata": {},
     "output_type": "display_data"
    },
    {
     "data": {
      "text/html": [
       "<pre>| 528          | 3.30558      | 1h 17m       |</pre>"
      ],
      "text/plain": [
       "| 528          | 3.30558      | 1h 17m       |"
      ]
     },
     "metadata": {},
     "output_type": "display_data"
    },
    {
     "data": {
      "text/html": [
       "<pre>| 529          | 3.16312      | 1h 17m       |</pre>"
      ],
      "text/plain": [
       "| 529          | 3.16312      | 1h 17m       |"
      ]
     },
     "metadata": {},
     "output_type": "display_data"
    },
    {
     "data": {
      "text/html": [
       "<pre>| 530          | 3.11258      | 1h 17m       |</pre>"
      ],
      "text/plain": [
       "| 530          | 3.11258      | 1h 17m       |"
      ]
     },
     "metadata": {},
     "output_type": "display_data"
    },
    {
     "data": {
      "text/html": [
       "<pre>| 531          | 3.10094      | 1h 17m       |</pre>"
      ],
      "text/plain": [
       "| 531          | 3.10094      | 1h 17m       |"
      ]
     },
     "metadata": {},
     "output_type": "display_data"
    },
    {
     "data": {
      "text/html": [
       "<pre>| 532          | 3.17437      | 1h 18m       |</pre>"
      ],
      "text/plain": [
       "| 532          | 3.17437      | 1h 18m       |"
      ]
     },
     "metadata": {},
     "output_type": "display_data"
    },
    {
     "data": {
      "text/html": [
       "<pre>| 533          | 3.0816       | 1h 18m       |</pre>"
      ],
      "text/plain": [
       "| 533          | 3.0816       | 1h 18m       |"
      ]
     },
     "metadata": {},
     "output_type": "display_data"
    },
    {
     "data": {
      "text/html": [
       "<pre>| 534          | 3.03682      | 1h 18m       |</pre>"
      ],
      "text/plain": [
       "| 534          | 3.03682      | 1h 18m       |"
      ]
     },
     "metadata": {},
     "output_type": "display_data"
    },
    {
     "data": {
      "text/html": [
       "<pre>| 535          | 3.01744      | 1h 18m       |</pre>"
      ],
      "text/plain": [
       "| 535          | 3.01744      | 1h 18m       |"
      ]
     },
     "metadata": {},
     "output_type": "display_data"
    },
    {
     "data": {
      "text/html": [
       "<pre>| 536          | 2.93357      | 1h 18m       |</pre>"
      ],
      "text/plain": [
       "| 536          | 2.93357      | 1h 18m       |"
      ]
     },
     "metadata": {},
     "output_type": "display_data"
    },
    {
     "data": {
      "text/html": [
       "<pre>| 537          | 2.85497      | 1h 18m       |</pre>"
      ],
      "text/plain": [
       "| 537          | 2.85497      | 1h 18m       |"
      ]
     },
     "metadata": {},
     "output_type": "display_data"
    },
    {
     "data": {
      "text/html": [
       "<pre>| 538          | 2.85787      | 1h 18m       |</pre>"
      ],
      "text/plain": [
       "| 538          | 2.85787      | 1h 18m       |"
      ]
     },
     "metadata": {},
     "output_type": "display_data"
    },
    {
     "data": {
      "text/html": [
       "<pre>| 539          | 2.99815      | 1h 18m       |</pre>"
      ],
      "text/plain": [
       "| 539          | 2.99815      | 1h 18m       |"
      ]
     },
     "metadata": {},
     "output_type": "display_data"
    },
    {
     "data": {
      "text/html": [
       "<pre>| 540          | 2.96523      | 1h 18m       |</pre>"
      ],
      "text/plain": [
       "| 540          | 2.96523      | 1h 18m       |"
      ]
     },
     "metadata": {},
     "output_type": "display_data"
    },
    {
     "data": {
      "text/html": [
       "<pre>| 541          | 3.00587      | 1h 18m       |</pre>"
      ],
      "text/plain": [
       "| 541          | 3.00587      | 1h 18m       |"
      ]
     },
     "metadata": {},
     "output_type": "display_data"
    },
    {
     "data": {
      "text/html": [
       "<pre>| 542          | 2.96849      | 1h 18m       |</pre>"
      ],
      "text/plain": [
       "| 542          | 2.96849      | 1h 18m       |"
      ]
     },
     "metadata": {},
     "output_type": "display_data"
    },
    {
     "data": {
      "text/html": [
       "<pre>| 543          | 3.01631      | 1h 18m       |</pre>"
      ],
      "text/plain": [
       "| 543          | 3.01631      | 1h 18m       |"
      ]
     },
     "metadata": {},
     "output_type": "display_data"
    },
    {
     "data": {
      "text/html": [
       "<pre>| 544          | 3.18899      | 1h 19m       |</pre>"
      ],
      "text/plain": [
       "| 544          | 3.18899      | 1h 19m       |"
      ]
     },
     "metadata": {},
     "output_type": "display_data"
    },
    {
     "data": {
      "text/html": [
       "<pre>| 545          | 3.13428      | 1h 19m       |</pre>"
      ],
      "text/plain": [
       "| 545          | 3.13428      | 1h 19m       |"
      ]
     },
     "metadata": {},
     "output_type": "display_data"
    },
    {
     "data": {
      "text/html": [
       "<pre>| 546          | 3.09737      | 1h 19m       |</pre>"
      ],
      "text/plain": [
       "| 546          | 3.09737      | 1h 19m       |"
      ]
     },
     "metadata": {},
     "output_type": "display_data"
    },
    {
     "data": {
      "text/html": [
       "<pre>| 547          | 3.07861      | 1h 19m       |</pre>"
      ],
      "text/plain": [
       "| 547          | 3.07861      | 1h 19m       |"
      ]
     },
     "metadata": {},
     "output_type": "display_data"
    },
    {
     "data": {
      "text/html": [
       "<pre>| 548          | 3.08851      | 1h 19m       |</pre>"
      ],
      "text/plain": [
       "| 548          | 3.08851      | 1h 19m       |"
      ]
     },
     "metadata": {},
     "output_type": "display_data"
    },
    {
     "data": {
      "text/html": [
       "<pre>| 549          | 3.1533       | 1h 19m       |</pre>"
      ],
      "text/plain": [
       "| 549          | 3.1533       | 1h 19m       |"
      ]
     },
     "metadata": {},
     "output_type": "display_data"
    },
    {
     "data": {
      "text/html": [
       "<pre>| 550          | 3.13189      | 1h 19m       |</pre>"
      ],
      "text/plain": [
       "| 550          | 3.13189      | 1h 19m       |"
      ]
     },
     "metadata": {},
     "output_type": "display_data"
    },
    {
     "data": {
      "text/html": [
       "<pre>| 551          | 3.04683      | 1h 19m       |</pre>"
      ],
      "text/plain": [
       "| 551          | 3.04683      | 1h 19m       |"
      ]
     },
     "metadata": {},
     "output_type": "display_data"
    },
    {
     "data": {
      "text/html": [
       "<pre>| 552          | 3.0526       | 1h 19m       |</pre>"
      ],
      "text/plain": [
       "| 552          | 3.0526       | 1h 19m       |"
      ]
     },
     "metadata": {},
     "output_type": "display_data"
    },
    {
     "data": {
      "text/html": [
       "<pre>| 553          | 3.19704      | 1h 19m       |</pre>"
      ],
      "text/plain": [
       "| 553          | 3.19704      | 1h 19m       |"
      ]
     },
     "metadata": {},
     "output_type": "display_data"
    },
    {
     "data": {
      "text/html": [
       "<pre>| 554          | 3.19302      | 1h 20m       |</pre>"
      ],
      "text/plain": [
       "| 554          | 3.19302      | 1h 20m       |"
      ]
     },
     "metadata": {},
     "output_type": "display_data"
    },
    {
     "data": {
      "text/html": [
       "<pre>| 555          | 3.19076      | 1h 20m       |</pre>"
      ],
      "text/plain": [
       "| 555          | 3.19076      | 1h 20m       |"
      ]
     },
     "metadata": {},
     "output_type": "display_data"
    },
    {
     "data": {
      "text/html": [
       "<pre>| 556          | 3.19687      | 1h 20m       |</pre>"
      ],
      "text/plain": [
       "| 556          | 3.19687      | 1h 20m       |"
      ]
     },
     "metadata": {},
     "output_type": "display_data"
    },
    {
     "data": {
      "text/html": [
       "<pre>| 557          | 3.32792      | 1h 20m       |</pre>"
      ],
      "text/plain": [
       "| 557          | 3.32792      | 1h 20m       |"
      ]
     },
     "metadata": {},
     "output_type": "display_data"
    },
    {
     "data": {
      "text/html": [
       "<pre>| 558          | 3.25713      | 1h 20m       |</pre>"
      ],
      "text/plain": [
       "| 558          | 3.25713      | 1h 20m       |"
      ]
     },
     "metadata": {},
     "output_type": "display_data"
    },
    {
     "data": {
      "text/html": [
       "<pre>| 559          | 3.22277      | 1h 20m       |</pre>"
      ],
      "text/plain": [
       "| 559          | 3.22277      | 1h 20m       |"
      ]
     },
     "metadata": {},
     "output_type": "display_data"
    },
    {
     "data": {
      "text/html": [
       "<pre>| 560          | 3.23475      | 1h 20m       |</pre>"
      ],
      "text/plain": [
       "| 560          | 3.23475      | 1h 20m       |"
      ]
     },
     "metadata": {},
     "output_type": "display_data"
    },
    {
     "data": {
      "text/html": [
       "<pre>| 561          | 3.21534      | 1h 20m       |</pre>"
      ],
      "text/plain": [
       "| 561          | 3.21534      | 1h 20m       |"
      ]
     },
     "metadata": {},
     "output_type": "display_data"
    },
    {
     "data": {
      "text/html": [
       "<pre>| 562          | 3.22118      | 1h 20m       |</pre>"
      ],
      "text/plain": [
       "| 562          | 3.22118      | 1h 20m       |"
      ]
     },
     "metadata": {},
     "output_type": "display_data"
    },
    {
     "data": {
      "text/html": [
       "<pre>| 563          | 3.18539      | 1h 20m       |</pre>"
      ],
      "text/plain": [
       "| 563          | 3.18539      | 1h 20m       |"
      ]
     },
     "metadata": {},
     "output_type": "display_data"
    },
    {
     "data": {
      "text/html": [
       "<pre>| 564          | 3.20239      | 1h 20m       |</pre>"
      ],
      "text/plain": [
       "| 564          | 3.20239      | 1h 20m       |"
      ]
     },
     "metadata": {},
     "output_type": "display_data"
    },
    {
     "data": {
      "text/html": [
       "<pre>| 565          | 3.146        | 1h 20m       |</pre>"
      ],
      "text/plain": [
       "| 565          | 3.146        | 1h 20m       |"
      ]
     },
     "metadata": {},
     "output_type": "display_data"
    },
    {
     "data": {
      "text/html": [
       "<pre>| 566          | 3.03404      | 1h 21m       |</pre>"
      ],
      "text/plain": [
       "| 566          | 3.03404      | 1h 21m       |"
      ]
     },
     "metadata": {},
     "output_type": "display_data"
    },
    {
     "data": {
      "text/html": [
       "<pre>| 567          | 3.09872      | 1h 21m       |</pre>"
      ],
      "text/plain": [
       "| 567          | 3.09872      | 1h 21m       |"
      ]
     },
     "metadata": {},
     "output_type": "display_data"
    },
    {
     "data": {
      "text/html": [
       "<pre>| 568          | 3.1615       | 1h 21m       |</pre>"
      ],
      "text/plain": [
       "| 568          | 3.1615       | 1h 21m       |"
      ]
     },
     "metadata": {},
     "output_type": "display_data"
    },
    {
     "data": {
      "text/html": [
       "<pre>| 569          | 3.17081      | 1h 21m       |</pre>"
      ],
      "text/plain": [
       "| 569          | 3.17081      | 1h 21m       |"
      ]
     },
     "metadata": {},
     "output_type": "display_data"
    },
    {
     "data": {
      "text/html": [
       "<pre>| 570          | 3.08937      | 1h 21m       |</pre>"
      ],
      "text/plain": [
       "| 570          | 3.08937      | 1h 21m       |"
      ]
     },
     "metadata": {},
     "output_type": "display_data"
    },
    {
     "data": {
      "text/html": [
       "<pre>| 571          | 2.95908      | 1h 21m       |</pre>"
      ],
      "text/plain": [
       "| 571          | 2.95908      | 1h 21m       |"
      ]
     },
     "metadata": {},
     "output_type": "display_data"
    },
    {
     "data": {
      "text/html": [
       "<pre>| 572          | 2.91809      | 1h 21m       |</pre>"
      ],
      "text/plain": [
       "| 572          | 2.91809      | 1h 21m       |"
      ]
     },
     "metadata": {},
     "output_type": "display_data"
    },
    {
     "data": {
      "text/html": [
       "<pre>| 573          | 2.98398      | 1h 21m       |</pre>"
      ],
      "text/plain": [
       "| 573          | 2.98398      | 1h 21m       |"
      ]
     },
     "metadata": {},
     "output_type": "display_data"
    },
    {
     "data": {
      "text/html": [
       "<pre>| 574          | 3.00851      | 1h 21m       |</pre>"
      ],
      "text/plain": [
       "| 574          | 3.00851      | 1h 21m       |"
      ]
     },
     "metadata": {},
     "output_type": "display_data"
    },
    {
     "data": {
      "text/html": [
       "<pre>| 575          | 2.93006      | 1h 21m       |</pre>"
      ],
      "text/plain": [
       "| 575          | 2.93006      | 1h 21m       |"
      ]
     },
     "metadata": {},
     "output_type": "display_data"
    },
    {
     "data": {
      "text/html": [
       "<pre>| 576          | 2.98753      | 1h 21m       |</pre>"
      ],
      "text/plain": [
       "| 576          | 2.98753      | 1h 21m       |"
      ]
     },
     "metadata": {},
     "output_type": "display_data"
    },
    {
     "data": {
      "text/html": [
       "<pre>| 577          | 3.00693      | 1h 21m       |</pre>"
      ],
      "text/plain": [
       "| 577          | 3.00693      | 1h 21m       |"
      ]
     },
     "metadata": {},
     "output_type": "display_data"
    },
    {
     "data": {
      "text/html": [
       "<pre>| 578          | 2.97302      | 1h 22m       |</pre>"
      ],
      "text/plain": [
       "| 578          | 2.97302      | 1h 22m       |"
      ]
     },
     "metadata": {},
     "output_type": "display_data"
    },
    {
     "data": {
      "text/html": [
       "<pre>| 579          | 3.00336      | 1h 22m       |</pre>"
      ],
      "text/plain": [
       "| 579          | 3.00336      | 1h 22m       |"
      ]
     },
     "metadata": {},
     "output_type": "display_data"
    },
    {
     "data": {
      "text/html": [
       "<pre>| 580          | 2.94544      | 1h 22m       |</pre>"
      ],
      "text/plain": [
       "| 580          | 2.94544      | 1h 22m       |"
      ]
     },
     "metadata": {},
     "output_type": "display_data"
    },
    {
     "data": {
      "text/html": [
       "<pre>| 581          | 2.98168      | 1h 22m       |</pre>"
      ],
      "text/plain": [
       "| 581          | 2.98168      | 1h 22m       |"
      ]
     },
     "metadata": {},
     "output_type": "display_data"
    },
    {
     "data": {
      "text/html": [
       "<pre>| 582          | 2.97664      | 1h 22m       |</pre>"
      ],
      "text/plain": [
       "| 582          | 2.97664      | 1h 22m       |"
      ]
     },
     "metadata": {},
     "output_type": "display_data"
    },
    {
     "data": {
      "text/html": [
       "<pre>| 583          | 2.92183      | 1h 22m       |</pre>"
      ],
      "text/plain": [
       "| 583          | 2.92183      | 1h 22m       |"
      ]
     },
     "metadata": {},
     "output_type": "display_data"
    },
    {
     "data": {
      "text/html": [
       "<pre>| 584          | 2.95081      | 1h 22m       |</pre>"
      ],
      "text/plain": [
       "| 584          | 2.95081      | 1h 22m       |"
      ]
     },
     "metadata": {},
     "output_type": "display_data"
    },
    {
     "data": {
      "text/html": [
       "<pre>| 585          | 2.933        | 1h 22m       |</pre>"
      ],
      "text/plain": [
       "| 585          | 2.933        | 1h 22m       |"
      ]
     },
     "metadata": {},
     "output_type": "display_data"
    },
    {
     "data": {
      "text/html": [
       "<pre>| 586          | 2.93168      | 1h 22m       |</pre>"
      ],
      "text/plain": [
       "| 586          | 2.93168      | 1h 22m       |"
      ]
     },
     "metadata": {},
     "output_type": "display_data"
    },
    {
     "data": {
      "text/html": [
       "<pre>| 587          | 2.91911      | 1h 22m       |</pre>"
      ],
      "text/plain": [
       "| 587          | 2.91911      | 1h 22m       |"
      ]
     },
     "metadata": {},
     "output_type": "display_data"
    },
    {
     "data": {
      "text/html": [
       "<pre>| 588          | 2.97069      | 1h 22m       |</pre>"
      ],
      "text/plain": [
       "| 588          | 2.97069      | 1h 22m       |"
      ]
     },
     "metadata": {},
     "output_type": "display_data"
    },
    {
     "data": {
      "text/html": [
       "<pre>| 589          | 2.96386      | 1h 22m       |</pre>"
      ],
      "text/plain": [
       "| 589          | 2.96386      | 1h 22m       |"
      ]
     },
     "metadata": {},
     "output_type": "display_data"
    },
    {
     "data": {
      "text/html": [
       "<pre>| 590          | 2.90662      | 1h 22m       |</pre>"
      ],
      "text/plain": [
       "| 590          | 2.90662      | 1h 22m       |"
      ]
     },
     "metadata": {},
     "output_type": "display_data"
    },
    {
     "data": {
      "text/html": [
       "<pre>| 591          | 2.87304      | 1h 23m       |</pre>"
      ],
      "text/plain": [
       "| 591          | 2.87304      | 1h 23m       |"
      ]
     },
     "metadata": {},
     "output_type": "display_data"
    },
    {
     "data": {
      "text/html": [
       "<pre>| 592          | 2.90552      | 1h 23m       |</pre>"
      ],
      "text/plain": [
       "| 592          | 2.90552      | 1h 23m       |"
      ]
     },
     "metadata": {},
     "output_type": "display_data"
    },
    {
     "data": {
      "text/html": [
       "<pre>| 593          | 2.91329      | 1h 23m       |</pre>"
      ],
      "text/plain": [
       "| 593          | 2.91329      | 1h 23m       |"
      ]
     },
     "metadata": {},
     "output_type": "display_data"
    },
    {
     "data": {
      "text/html": [
       "<pre>| 594          | 2.85106      | 1h 23m       |</pre>"
      ],
      "text/plain": [
       "| 594          | 2.85106      | 1h 23m       |"
      ]
     },
     "metadata": {},
     "output_type": "display_data"
    },
    {
     "data": {
      "text/html": [
       "<pre>| 595          | 2.81791      | 1h 23m       |</pre>"
      ],
      "text/plain": [
       "| 595          | 2.81791      | 1h 23m       |"
      ]
     },
     "metadata": {},
     "output_type": "display_data"
    },
    {
     "data": {
      "text/html": [
       "<pre>| 596          | 2.87636      | 1h 23m       |</pre>"
      ],
      "text/plain": [
       "| 596          | 2.87636      | 1h 23m       |"
      ]
     },
     "metadata": {},
     "output_type": "display_data"
    },
    {
     "data": {
      "text/html": [
       "<pre>| 597          | 2.8483       | 1h 23m       |</pre>"
      ],
      "text/plain": [
       "| 597          | 2.8483       | 1h 23m       |"
      ]
     },
     "metadata": {},
     "output_type": "display_data"
    },
    {
     "data": {
      "text/html": [
       "<pre>| 598          | 2.89418      | 1h 23m       |</pre>"
      ],
      "text/plain": [
       "| 598          | 2.89418      | 1h 23m       |"
      ]
     },
     "metadata": {},
     "output_type": "display_data"
    },
    {
     "data": {
      "text/html": [
       "<pre>| 599          | 2.83032      | 1h 23m       |</pre>"
      ],
      "text/plain": [
       "| 599          | 2.83032      | 1h 23m       |"
      ]
     },
     "metadata": {},
     "output_type": "display_data"
    },
    {
     "data": {
      "text/html": [
       "<pre>| 600          | 2.91641      | 1h 23m       |</pre>"
      ],
      "text/plain": [
       "| 600          | 2.91641      | 1h 23m       |"
      ]
     },
     "metadata": {},
     "output_type": "display_data"
    },
    {
     "data": {
      "text/html": [
       "<pre>+--------------+--------------+--------------+</pre>"
      ],
      "text/plain": [
       "+--------------+--------------+--------------+"
      ]
     },
     "metadata": {},
     "output_type": "display_data"
    }
   ],
   "source": [
    "# Load the data from the sframe\n",
    "data = tc.SFrame('TomatoOnionTrainFrame.sframe')\n",
    "\n",
    "# Make a train-test split\n",
    "train_data, test_data = data.random_split(0.8)\n",
    "\n",
    "# Automatically picks the right model based on your data.\n",
    "model = tc.object_detector.create(train_data, feature='image', annotations='annotations', max_iterations=600)"
   ]
  },
  {
   "cell_type": "markdown",
   "metadata": {},
   "source": [
    "#### Evaluate Model"
   ]
  },
  {
   "cell_type": "code",
   "execution_count": 14,
   "metadata": {},
   "outputs": [
    {
     "name": "stdout",
     "output_type": "stream",
     "text": [
      "{'onion': 0.0010878939647227526, 'tomato': 0.0011846997076645494}\n",
      "0.0011362968944013119\n"
     ]
    }
   ],
   "source": [
    "# Mean average Precision\n",
    "scores = model.evaluate(data)\n",
    "print(scores['average_precision_50'])\n",
    "print(scores['mean_average_precision_50'])"
   ]
  },
  {
   "cell_type": "markdown",
   "metadata": {},
   "source": [
    "### Exporting Trained model"
   ]
  },
  {
   "cell_type": "code",
   "execution_count": 15,
   "metadata": {},
   "outputs": [],
   "source": [
    "modelName = \"TomatoOnion\"\n",
    "# Save the model for later use in Turi Create\n",
    "# Important to save in case something after breaks the script\n",
    "model.save(modelName + '.model')\n",
    "\n",
    "# Export for use in CoreML\n",
    "model.export_coreml(modelName.title() + 'Detector.mlmodel')"
   ]
  },
  {
   "cell_type": "markdown",
   "metadata": {},
   "source": [
    "### References\n",
    "\n",
    "[1] https://medium.com/@manivannan_data/how-to-train-yolov2-to-detect-custom-objects-9010df784f36 <br>\n",
    "[2] https://apple.github.io/turicreate/docs/api/index.html"
   ]
  }
 ],
 "metadata": {
  "kernelspec": {
   "display_name": "Python 3",
   "language": "python",
   "name": "python3"
  },
  "language_info": {
   "codemirror_mode": {
    "name": "ipython",
    "version": 3
   },
   "file_extension": ".py",
   "mimetype": "text/x-python",
   "name": "python",
   "nbconvert_exporter": "python",
   "pygments_lexer": "ipython3",
   "version": "3.7.3"
  }
 },
 "nbformat": 4,
 "nbformat_minor": 2
}
